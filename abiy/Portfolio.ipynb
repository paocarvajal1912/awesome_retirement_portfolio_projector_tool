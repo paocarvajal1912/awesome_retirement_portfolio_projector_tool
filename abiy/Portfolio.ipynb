{
 "cells": [
  {
   "cell_type": "markdown",
   "id": "be0ea4fd",
   "metadata": {},
   "source": [
    "![alt text](awesome_logo.png \"Awesome Retirement Portfolio Projector Tool\")"
   ]
  },
  {
   "cell_type": "markdown",
   "id": "b6cd63fd-7a4e-44bd-848b-3509429e4a76",
   "metadata": {},
   "source": [
    "# My Portfolio"
   ]
  },
  {
   "cell_type": "code",
   "execution_count": 10,
   "id": "da8af8da-0490-48e3-8da9-4062d5d209cc",
   "metadata": {},
   "outputs": [],
   "source": [
    "import sqlalchemy as sql\n",
    "import pandas as pd\n",
    "import os\n",
    "import datetime\n",
    "import alpaca_trade_api as tradeapi\n",
    "from dotenv import load_dotenv\n",
    "import hvplot.pandas\n",
    "load_dotenv()\n",
    "import numpy as np\n",
    "\n",
    "# Set Alpaca API key and secret\n",
    "alpaca_api_key = os.getenv(\"ALPACA_API_KEY\")\n",
    "alpaca_secret_key = os.getenv(\"ALPACA_SECRET_KEY\")"
   ]
  },
  {
   "cell_type": "code",
   "execution_count": 11,
   "id": "44f09866-4b9b-495a-bd9f-476a82ffdba3",
   "metadata": {},
   "outputs": [],
   "source": [
    "# Create the Alpaca API object\n",
    "alpaca = tradeapi.REST(\n",
    "    alpaca_api_key,\n",
    "    alpaca_secret_key,\n",
    "    api_version=\"v2\"\n",
    ")"
   ]
  },
  {
   "cell_type": "code",
   "execution_count": 12,
   "id": "265fdf19",
   "metadata": {
    "scrolled": true
   },
   "outputs": [],
   "source": [
    " #Get porfolio data\n",
    "connection_string = 'sqlite:///awesome_app.db'\n",
    "engine = sql.create_engine(connection_string, echo=False)\n",
    "\n",
    "sql = \"\"\"\n",
    "  SELECT *\n",
    "  FROM portfolio\n",
    "\"\"\"\n",
    "\n",
    "portfolio_df = pd.read_sql_query(sql, engine)\n"
   ]
  },
  {
   "cell_type": "code",
   "execution_count": 13,
   "id": "29f0714a",
   "metadata": {},
   "outputs": [
    {
     "data": {
      "text/html": [
       "<div>\n",
       "<style scoped>\n",
       "    .dataframe tbody tr th:only-of-type {\n",
       "        vertical-align: middle;\n",
       "    }\n",
       "\n",
       "    .dataframe tbody tr th {\n",
       "        vertical-align: top;\n",
       "    }\n",
       "\n",
       "    .dataframe thead th {\n",
       "        text-align: right;\n",
       "    }\n",
       "</style>\n",
       "<table border=\"1\" class=\"dataframe\">\n",
       "  <thead>\n",
       "    <tr style=\"text-align: right;\">\n",
       "      <th></th>\n",
       "      <th>symbol</th>\n",
       "      <th>quantity</th>\n",
       "      <th>type</th>\n",
       "    </tr>\n",
       "  </thead>\n",
       "  <tbody>\n",
       "    <tr>\n",
       "      <th>0</th>\n",
       "      <td>GOOG</td>\n",
       "      <td>10.0</td>\n",
       "      <td>Equity</td>\n",
       "    </tr>\n",
       "    <tr>\n",
       "      <th>1</th>\n",
       "      <td>CMG</td>\n",
       "      <td>20.0</td>\n",
       "      <td>Equity</td>\n",
       "    </tr>\n",
       "    <tr>\n",
       "      <th>2</th>\n",
       "      <td>IBM</td>\n",
       "      <td>500.0</td>\n",
       "      <td>Equity</td>\n",
       "    </tr>\n",
       "    <tr>\n",
       "      <th>3</th>\n",
       "      <td>XLB</td>\n",
       "      <td>1000.0</td>\n",
       "      <td>Equity</td>\n",
       "    </tr>\n",
       "  </tbody>\n",
       "</table>\n",
       "</div>"
      ],
      "text/plain": [
       "  symbol  quantity    type\n",
       "0   GOOG      10.0  Equity\n",
       "1    CMG      20.0  Equity\n",
       "2    IBM     500.0  Equity\n",
       "3    XLB    1000.0  Equity"
      ]
     },
     "execution_count": 13,
     "metadata": {},
     "output_type": "execute_result"
    }
   ],
   "source": [
    "#CHANGE IN INITIAL POSITION\n",
    "new_quantities=pd.DataFrame({'quantity':[10,20,500,1000]})\n",
    "portfolio_df.update(new_quantities)\n",
    "portfolio_df"
   ]
  },
  {
   "cell_type": "code",
   "execution_count": 14,
   "id": "f5a5dc7b-32ef-4fa3-b2d8-14c3b4373760",
   "metadata": {},
   "outputs": [
    {
     "name": "stdout",
     "output_type": "stream",
     "text": [
      "My risk level is...\n"
     ]
    }
   ],
   "source": [
    "print('My risk level is...')"
   ]
  },
  {
   "cell_type": "code",
   "execution_count": 15,
   "id": "4985697a-356e-4676-afe2-f1b74e703ca0",
   "metadata": {
    "scrolled": false
   },
   "outputs": [
    {
     "name": "stdout",
     "output_type": "stream",
     "text": [
      "GOOG\n",
      "CMG\n",
      "IBM\n",
      "XLB\n",
      "84.56\n"
     ]
    },
    {
     "ename": "ValueError",
     "evalue": "Length of values (1) does not match length of index (4)",
     "output_type": "error",
     "traceback": [
      "\u001b[0;31m---------------------------------------------------------------------------\u001b[0m",
      "\u001b[0;31mValueError\u001b[0m                                Traceback (most recent call last)",
      "\u001b[0;32m<ipython-input-15-eb602e4551a5>\u001b[0m in \u001b[0;36m<module>\u001b[0;34m\u001b[0m\n\u001b[1;32m     49\u001b[0m \u001b[0mportfolio_df\u001b[0m\u001b[0;34m[\u001b[0m\u001b[0;34m'price'\u001b[0m\u001b[0;34m]\u001b[0m \u001b[0;34m=\u001b[0m \u001b[0mall_results_df\u001b[0m\u001b[0;34m[\u001b[0m\u001b[0mt\u001b[0m\u001b[0;34m]\u001b[0m\u001b[0;34m[\u001b[0m\u001b[0;34m'close'\u001b[0m\u001b[0;34m]\u001b[0m\u001b[0;34m[\u001b[0m\u001b[0;34m-\u001b[0m\u001b[0;36m1\u001b[0m\u001b[0;34m]\u001b[0m\u001b[0;34m\u001b[0m\u001b[0;34m\u001b[0m\u001b[0m\n\u001b[1;32m     50\u001b[0m \u001b[0;34m\u001b[0m\u001b[0m\n\u001b[0;32m---> 51\u001b[0;31m \u001b[0mportfolio_df\u001b[0m\u001b[0;34m[\u001b[0m\u001b[0;34m'price'\u001b[0m\u001b[0;34m]\u001b[0m \u001b[0;34m=\u001b[0m \u001b[0mlast_price\u001b[0m\u001b[0;34m\u001b[0m\u001b[0;34m\u001b[0m\u001b[0m\n\u001b[0m\u001b[1;32m     52\u001b[0m \u001b[0mportfolio_df\u001b[0m\u001b[0;34m[\u001b[0m\u001b[0;34m'total'\u001b[0m\u001b[0;34m]\u001b[0m \u001b[0;34m=\u001b[0m \u001b[0mportfolio_df\u001b[0m\u001b[0;34m[\u001b[0m\u001b[0;34m'price'\u001b[0m\u001b[0;34m]\u001b[0m \u001b[0;34m*\u001b[0m \u001b[0mportfolio_df\u001b[0m\u001b[0;34m[\u001b[0m\u001b[0;34m'quantity'\u001b[0m\u001b[0;34m]\u001b[0m\u001b[0;34m\u001b[0m\u001b[0;34m\u001b[0m\u001b[0m\n\u001b[1;32m     53\u001b[0m \u001b[0mdisplay\u001b[0m\u001b[0;34m(\u001b[0m\u001b[0mportfolio_df\u001b[0m\u001b[0;34m)\u001b[0m\u001b[0;34m\u001b[0m\u001b[0;34m\u001b[0m\u001b[0m\n",
      "\u001b[0;32m/opt/anaconda3/envs/dev/lib/python3.7/site-packages/pandas/core/frame.py\u001b[0m in \u001b[0;36m__setitem__\u001b[0;34m(self, key, value)\u001b[0m\n\u001b[1;32m   3161\u001b[0m         \u001b[0;32melse\u001b[0m\u001b[0;34m:\u001b[0m\u001b[0;34m\u001b[0m\u001b[0;34m\u001b[0m\u001b[0m\n\u001b[1;32m   3162\u001b[0m             \u001b[0;31m# set column\u001b[0m\u001b[0;34m\u001b[0m\u001b[0;34m\u001b[0m\u001b[0;34m\u001b[0m\u001b[0m\n\u001b[0;32m-> 3163\u001b[0;31m             \u001b[0mself\u001b[0m\u001b[0;34m.\u001b[0m\u001b[0m_set_item\u001b[0m\u001b[0;34m(\u001b[0m\u001b[0mkey\u001b[0m\u001b[0;34m,\u001b[0m \u001b[0mvalue\u001b[0m\u001b[0;34m)\u001b[0m\u001b[0;34m\u001b[0m\u001b[0;34m\u001b[0m\u001b[0m\n\u001b[0m\u001b[1;32m   3164\u001b[0m \u001b[0;34m\u001b[0m\u001b[0m\n\u001b[1;32m   3165\u001b[0m     \u001b[0;32mdef\u001b[0m \u001b[0m_setitem_slice\u001b[0m\u001b[0;34m(\u001b[0m\u001b[0mself\u001b[0m\u001b[0;34m,\u001b[0m \u001b[0mkey\u001b[0m\u001b[0;34m:\u001b[0m \u001b[0mslice\u001b[0m\u001b[0;34m,\u001b[0m \u001b[0mvalue\u001b[0m\u001b[0;34m)\u001b[0m\u001b[0;34m:\u001b[0m\u001b[0;34m\u001b[0m\u001b[0;34m\u001b[0m\u001b[0m\n",
      "\u001b[0;32m/opt/anaconda3/envs/dev/lib/python3.7/site-packages/pandas/core/frame.py\u001b[0m in \u001b[0;36m_set_item\u001b[0;34m(self, key, value)\u001b[0m\n\u001b[1;32m   3240\u001b[0m         \"\"\"\n\u001b[1;32m   3241\u001b[0m         \u001b[0mself\u001b[0m\u001b[0;34m.\u001b[0m\u001b[0m_ensure_valid_index\u001b[0m\u001b[0;34m(\u001b[0m\u001b[0mvalue\u001b[0m\u001b[0;34m)\u001b[0m\u001b[0;34m\u001b[0m\u001b[0;34m\u001b[0m\u001b[0m\n\u001b[0;32m-> 3242\u001b[0;31m         \u001b[0mvalue\u001b[0m \u001b[0;34m=\u001b[0m \u001b[0mself\u001b[0m\u001b[0;34m.\u001b[0m\u001b[0m_sanitize_column\u001b[0m\u001b[0;34m(\u001b[0m\u001b[0mkey\u001b[0m\u001b[0;34m,\u001b[0m \u001b[0mvalue\u001b[0m\u001b[0;34m)\u001b[0m\u001b[0;34m\u001b[0m\u001b[0;34m\u001b[0m\u001b[0m\n\u001b[0m\u001b[1;32m   3243\u001b[0m         \u001b[0mNDFrame\u001b[0m\u001b[0;34m.\u001b[0m\u001b[0m_set_item\u001b[0m\u001b[0;34m(\u001b[0m\u001b[0mself\u001b[0m\u001b[0;34m,\u001b[0m \u001b[0mkey\u001b[0m\u001b[0;34m,\u001b[0m \u001b[0mvalue\u001b[0m\u001b[0;34m)\u001b[0m\u001b[0;34m\u001b[0m\u001b[0;34m\u001b[0m\u001b[0m\n\u001b[1;32m   3244\u001b[0m \u001b[0;34m\u001b[0m\u001b[0m\n",
      "\u001b[0;32m/opt/anaconda3/envs/dev/lib/python3.7/site-packages/pandas/core/frame.py\u001b[0m in \u001b[0;36m_sanitize_column\u001b[0;34m(self, key, value, broadcast)\u001b[0m\n\u001b[1;32m   3897\u001b[0m \u001b[0;34m\u001b[0m\u001b[0m\n\u001b[1;32m   3898\u001b[0m             \u001b[0;31m# turn me into an ndarray\u001b[0m\u001b[0;34m\u001b[0m\u001b[0;34m\u001b[0m\u001b[0;34m\u001b[0m\u001b[0m\n\u001b[0;32m-> 3899\u001b[0;31m             \u001b[0mvalue\u001b[0m \u001b[0;34m=\u001b[0m \u001b[0msanitize_index\u001b[0m\u001b[0;34m(\u001b[0m\u001b[0mvalue\u001b[0m\u001b[0;34m,\u001b[0m \u001b[0mself\u001b[0m\u001b[0;34m.\u001b[0m\u001b[0mindex\u001b[0m\u001b[0;34m)\u001b[0m\u001b[0;34m\u001b[0m\u001b[0;34m\u001b[0m\u001b[0m\n\u001b[0m\u001b[1;32m   3900\u001b[0m             \u001b[0;32mif\u001b[0m \u001b[0;32mnot\u001b[0m \u001b[0misinstance\u001b[0m\u001b[0;34m(\u001b[0m\u001b[0mvalue\u001b[0m\u001b[0;34m,\u001b[0m \u001b[0;34m(\u001b[0m\u001b[0mnp\u001b[0m\u001b[0;34m.\u001b[0m\u001b[0mndarray\u001b[0m\u001b[0;34m,\u001b[0m \u001b[0mIndex\u001b[0m\u001b[0;34m)\u001b[0m\u001b[0;34m)\u001b[0m\u001b[0;34m:\u001b[0m\u001b[0;34m\u001b[0m\u001b[0;34m\u001b[0m\u001b[0m\n\u001b[1;32m   3901\u001b[0m                 \u001b[0;32mif\u001b[0m \u001b[0misinstance\u001b[0m\u001b[0;34m(\u001b[0m\u001b[0mvalue\u001b[0m\u001b[0;34m,\u001b[0m \u001b[0mlist\u001b[0m\u001b[0;34m)\u001b[0m \u001b[0;32mand\u001b[0m \u001b[0mlen\u001b[0m\u001b[0;34m(\u001b[0m\u001b[0mvalue\u001b[0m\u001b[0;34m)\u001b[0m \u001b[0;34m>\u001b[0m \u001b[0;36m0\u001b[0m\u001b[0;34m:\u001b[0m\u001b[0;34m\u001b[0m\u001b[0;34m\u001b[0m\u001b[0m\n",
      "\u001b[0;32m/opt/anaconda3/envs/dev/lib/python3.7/site-packages/pandas/core/internals/construction.py\u001b[0m in \u001b[0;36msanitize_index\u001b[0;34m(data, index)\u001b[0m\n\u001b[1;32m    750\u001b[0m     \u001b[0;32mif\u001b[0m \u001b[0mlen\u001b[0m\u001b[0;34m(\u001b[0m\u001b[0mdata\u001b[0m\u001b[0;34m)\u001b[0m \u001b[0;34m!=\u001b[0m \u001b[0mlen\u001b[0m\u001b[0;34m(\u001b[0m\u001b[0mindex\u001b[0m\u001b[0;34m)\u001b[0m\u001b[0;34m:\u001b[0m\u001b[0;34m\u001b[0m\u001b[0;34m\u001b[0m\u001b[0m\n\u001b[1;32m    751\u001b[0m         raise ValueError(\n\u001b[0;32m--> 752\u001b[0;31m             \u001b[0;34m\"Length of values \"\u001b[0m\u001b[0;34m\u001b[0m\u001b[0;34m\u001b[0m\u001b[0m\n\u001b[0m\u001b[1;32m    753\u001b[0m             \u001b[0;34mf\"({len(data)}) \"\u001b[0m\u001b[0;34m\u001b[0m\u001b[0;34m\u001b[0m\u001b[0m\n\u001b[1;32m    754\u001b[0m             \u001b[0;34m\"does not match length of index \"\u001b[0m\u001b[0;34m\u001b[0m\u001b[0;34m\u001b[0m\u001b[0m\n",
      "\u001b[0;31mValueError\u001b[0m: Length of values (1) does not match length of index (4)"
     ]
    }
   ],
   "source": [
    "# Set the tickers\n",
    "tickers = portfolio_df[\"symbol\"]\n",
    "# Set timeframe to one day ('1D') for the Alpaca API\n",
    "timeframe = \"1D\"\n",
    "# Set the number of years of data to fetch\n",
    "num_years = 30\n",
    "\n",
    "batch_size = 1000\n",
    "num_days_data_needed = num_years * 365\n",
    "first_date = datetime.datetime.now()\n",
    "last_date = first_date - datetime.timedelta(days=num_days_data_needed)\n",
    "\n",
    "def format_date_iso(date):\n",
    "    return pd.Timestamp(date, tz=\"America/New_York\").isoformat()\n",
    "\n",
    "all_results_df = pd.DataFrame()\n",
    "next_batch_date = first_date\n",
    "\n",
    "while num_days_data_needed > 0:\n",
    "    end_date = str(next_batch_date).split()[0]\n",
    "    \n",
    "    next_batch_date -= datetime.timedelta(days=batch_size)\n",
    "    if next_batch_date < last_date:\n",
    "        next_batch_date = last_date\n",
    "\n",
    "    start_date = str(next_batch_date).split()[0]\n",
    "    \n",
    "    results_batch_df = alpaca.get_barset(\n",
    "        tickers,\n",
    "        timeframe,\n",
    "        start = format_date_iso(start_date),\n",
    "        end = format_date_iso(end_date),\n",
    "        limit = batch_size\n",
    "    ).df\n",
    "\n",
    "    all_results_df = pd.concat([all_results_df, results_batch_df])\n",
    "    num_days_data_needed -= batch_size\n",
    "    \n",
    "all_results_df.sort_index(inplace=True)\n",
    "\n",
    "#Display data\n",
    "# all_results_df\n",
    "\n",
    "last_price = []\n",
    "for t in portfolio_df['symbol']:\n",
    "    print(t)\n",
    "print(all_results_df[t]['close'][-1])\n",
    "last_price.append(all_results_df[t]['close'][-1])\n",
    "portfolio_df['price'] = all_results_df[t]['close'][-1]\n",
    "\n",
    "portfolio_df['price'] = last_price\n",
    "portfolio_df['total'] = portfolio_df['price'] * portfolio_df['quantity']\n",
    "display(portfolio_df)\n",
    "print(f\"Total portfolio valus is {portfolio_df['total'].sum()}\")\n"
   ]
  },
  {
   "cell_type": "code",
   "execution_count": null,
   "id": "00948a48-fd14-4492-b527-f1b07d3f3365",
   "metadata": {
    "scrolled": false
   },
   "outputs": [],
   "source": [
    "all_close_df = all_results_df.xs('close', axis=1, level=1, drop_level=False)\n",
    "all_close_df.plot(figsize=[20, 10])"
   ]
  },
  {
   "cell_type": "markdown",
   "id": "7d0606fa",
   "metadata": {},
   "source": [
    "Risk Analysis"
   ]
  },
  {
   "cell_type": "code",
   "execution_count": null,
   "id": "67e51e7c",
   "metadata": {
    "scrolled": false
   },
   "outputs": [],
   "source": [
    "portfolio_daily_returns = all_close_df.pct_change().dropna()\n",
    "portfolio_daily_returns.head()"
   ]
  },
  {
   "cell_type": "code",
   "execution_count": 16,
   "id": "f4eb4729",
   "metadata": {
    "scrolled": true
   },
   "outputs": [
    {
     "ename": "NameError",
     "evalue": "name 'all_close_df' is not defined",
     "output_type": "error",
     "traceback": [
      "\u001b[0;31m---------------------------------------------------------------------------\u001b[0m",
      "\u001b[0;31mNameError\u001b[0m                                 Traceback (most recent call last)",
      "\u001b[0;32m<ipython-input-16-5ad966043569>\u001b[0m in \u001b[0;36m<module>\u001b[0;34m\u001b[0m\n\u001b[0;32m----> 1\u001b[0;31m \u001b[0mportfolio_daily_returns\u001b[0m\u001b[0;34m=\u001b[0m \u001b[0mall_close_df\u001b[0m\u001b[0;34m.\u001b[0m\u001b[0mpct_change\u001b[0m\u001b[0;34m(\u001b[0m\u001b[0;34m)\u001b[0m\u001b[0;34m.\u001b[0m\u001b[0mmean\u001b[0m\u001b[0;34m(\u001b[0m\u001b[0;34m)\u001b[0m\u001b[0;34m\u001b[0m\u001b[0;34m\u001b[0m\u001b[0m\n\u001b[0m\u001b[1;32m      2\u001b[0m \u001b[0mportfolio_daily_returns\u001b[0m\u001b[0;34m\u001b[0m\u001b[0;34m\u001b[0m\u001b[0m\n",
      "\u001b[0;31mNameError\u001b[0m: name 'all_close_df' is not defined"
     ]
    }
   ],
   "source": [
    "portfolio_daily_returns= all_close_df.pct_change().mean()\n",
    "portfolio_daily_returns"
   ]
  },
  {
   "cell_type": "code",
   "execution_count": null,
   "id": "71d47c08",
   "metadata": {},
   "outputs": [],
   "source": [
    "portfolio_daily_returns.pie()"
   ]
  },
  {
   "cell_type": "code",
   "execution_count": null,
   "id": "8f932eb4",
   "metadata": {
    "scrolled": true
   },
   "outputs": [],
   "source": [
    "#ploting portfolio daily returns for visualizing\n",
    "portfolio_daily_returns.plot(figsize=(20,10),title = 'Portfolio Daily Returns')"
   ]
  },
  {
   "cell_type": "code",
   "execution_count": 7,
   "id": "8d7c966e",
   "metadata": {
    "scrolled": true
   },
   "outputs": [
    {
     "ename": "NameError",
     "evalue": "name 'portfolio_daily_returns' is not defined",
     "output_type": "error",
     "traceback": [
      "\u001b[0;31m---------------------------------------------------------------------------\u001b[0m",
      "\u001b[0;31mNameError\u001b[0m                                 Traceback (most recent call last)",
      "\u001b[0;32m<ipython-input-7-5fada0967bfb>\u001b[0m in \u001b[0;36m<module>\u001b[0;34m\u001b[0m\n\u001b[0;32m----> 1\u001b[0;31m \u001b[0mportfolio_cumulative_returns\u001b[0m \u001b[0;34m=\u001b[0m \u001b[0;34m(\u001b[0m\u001b[0;36m1\u001b[0m\u001b[0;34m+\u001b[0m\u001b[0mportfolio_daily_returns\u001b[0m\u001b[0;34m)\u001b[0m\u001b[0;34m.\u001b[0m\u001b[0mcumprod\u001b[0m\u001b[0;34m(\u001b[0m\u001b[0;34m)\u001b[0m\u001b[0;34m-\u001b[0m\u001b[0;36m1\u001b[0m\u001b[0;34m\u001b[0m\u001b[0;34m\u001b[0m\u001b[0m\n\u001b[0m\u001b[1;32m      2\u001b[0m \u001b[0mportfolio_cumulative_price\u001b[0m\u001b[0;34m.\u001b[0m\u001b[0mhead\u001b[0m\u001b[0;34m(\u001b[0m\u001b[0;34m)\u001b[0m\u001b[0;34m\u001b[0m\u001b[0;34m\u001b[0m\u001b[0m\n",
      "\u001b[0;31mNameError\u001b[0m: name 'portfolio_daily_returns' is not defined"
     ]
    }
   ],
   "source": [
    "portfolio_cumulative_returns = (1+portfolio_daily_returns).cumprod()-1\n",
    "portfolio_cumulative_price.head()"
   ]
  },
  {
   "cell_type": "code",
   "execution_count": 8,
   "id": "083f0102",
   "metadata": {
    "scrolled": true
   },
   "outputs": [
    {
     "ename": "NameError",
     "evalue": "name 'portfolio_cumulative_returns' is not defined",
     "output_type": "error",
     "traceback": [
      "\u001b[0;31m---------------------------------------------------------------------------\u001b[0m",
      "\u001b[0;31mNameError\u001b[0m                                 Traceback (most recent call last)",
      "\u001b[0;32m<ipython-input-8-e3b35b96a93a>\u001b[0m in \u001b[0;36m<module>\u001b[0;34m\u001b[0m\n\u001b[1;32m      1\u001b[0m \u001b[0;31m#cumulative returns plot\u001b[0m\u001b[0;34m\u001b[0m\u001b[0;34m\u001b[0m\u001b[0;34m\u001b[0m\u001b[0m\n\u001b[0;32m----> 2\u001b[0;31m \u001b[0mportfolio_cumulative_returns\u001b[0m\u001b[0;34m.\u001b[0m\u001b[0mplot\u001b[0m\u001b[0;34m(\u001b[0m\u001b[0mfigsize\u001b[0m\u001b[0;34m=\u001b[0m\u001b[0;34m(\u001b[0m\u001b[0;36m20\u001b[0m\u001b[0;34m,\u001b[0m\u001b[0;36m10\u001b[0m\u001b[0;34m)\u001b[0m\u001b[0;34m,\u001b[0m\u001b[0mtitle\u001b[0m \u001b[0;34m=\u001b[0m \u001b[0;34m'portfolio cumulative Returns'\u001b[0m\u001b[0;34m)\u001b[0m\u001b[0;34m\u001b[0m\u001b[0;34m\u001b[0m\u001b[0m\n\u001b[0m",
      "\u001b[0;31mNameError\u001b[0m: name 'portfolio_cumulative_returns' is not defined"
     ]
    }
   ],
   "source": [
    "#cumulative returns plot \n",
    "portfolio_cumulative_returns.plot(figsize=(20,10),title = 'portfolio cumulative Returns')"
   ]
  },
  {
   "cell_type": "code",
   "execution_count": 64,
   "id": "8f43906f",
   "metadata": {
    "scrolled": true
   },
   "outputs": [
    {
     "data": {
      "text/plain": [
       "<AxesSubplot:ylabel='Density'>"
      ]
     },
     "execution_count": 64,
     "metadata": {},
     "output_type": "execute_result"
    },
    {
     "data": {
      "image/png": "[encoded data removed]",
      "text/plain": [
       "<Figure size 1440x720 with 1 Axes>"
      ]
     },
     "metadata": {
      "needs_background": "light"
     },
     "output_type": "display_data"
    }
   ],
   "source": [
    "# Visualize the distribution of percent change in closing price for the three stocks using a density plot\n",
    "portfolio_daily_returns.plot.density(figsize=(20,10))"
   ]
  },
  {
   "cell_type": "code",
   "execution_count": 65,
   "id": "e0c5ac58",
   "metadata": {
    "scrolled": true
   },
   "outputs": [
    {
     "data": {
      "text/plain": [
       "CMG   close    0.264415\n",
       "GOOG  close    0.203442\n",
       "IBM   close    0.066499\n",
       "XLB   close    0.086033\n",
       "dtype: float64"
      ]
     },
     "execution_count": 65,
     "metadata": {},
     "output_type": "execute_result"
    }
   ],
   "source": [
    "# There are 252 trading days in a year\n",
    "#calculating annaualized yearly returns\n",
    "year_trading_days = 252\n",
    "average_annual_return = portfolio_daily_returns.mean() * year_trading_days\n",
    "average_annual_return"
   ]
  },
  {
   "cell_type": "code",
   "execution_count": 66,
   "id": "4da68c99",
   "metadata": {
    "scrolled": true
   },
   "outputs": [
    {
     "data": {
      "text/plain": [
       "CMG   close    0.392730\n",
       "GOOG  close    0.318859\n",
       "IBM   close    0.295182\n",
       "XLB   close    0.253379\n",
       "dtype: float64"
      ]
     },
     "execution_count": 66,
     "metadata": {},
     "output_type": "execute_result"
    }
   ],
   "source": [
    "#Annualized stardard deviation\n",
    "annualized_standard_deviation = portfolio_daily_returns.std() * (year_trading_days ** (1 / 2))\n",
    "annualized_standard_deviation"
   ]
  },
  {
   "cell_type": "code",
   "execution_count": 74,
   "id": "7d9b78ca",
   "metadata": {},
   "outputs": [],
   "source": [
    "df_bar = pd.DataFrame(\n",
    "    {\n",
    "        \"ticker\": [\"CMG\", \"GOOG\", \"IBM\", \"XLB\"],\n",
    "        \"daily_return\": (4.50, 10, 33.0, 55.25),\n",
    "    }\n",
    ")\n",
    "    "
   ]
  },
  {
   "cell_type": "code",
   "execution_count": 78,
   "id": "1511ca4f",
   "metadata": {},
   "outputs": [
    {
     "data": {
      "text/plain": [
       "<AxesSubplot:xlabel='Ticker', ylabel='Daily Return'>"
      ]
     },
     "execution_count": 78,
     "metadata": {},
     "output_type": "execute_result"
    },
    {
     "data": {
      "image/png": "[encoded data removed]",
      "text/plain": [
       "<Figure size 1440x720 with 1 Axes>"
      ]
     },
     "metadata": {
      "needs_background": "light"
     },
     "output_type": "display_data"
    }
   ],
   "source": [
    "df_bar.plot.bar(\n",
    "    x=\"ticker\", \n",
    "    y=\"daily_return\", \n",
    "    xlabel=\"Ticker\", \n",
    "    ylabel=\"Daily Return\", \n",
    "    rot=45,\n",
    "    figsize=(20,10)\n",
    ")"
   ]
  },
  {
   "cell_type": "code",
   "execution_count": 77,
   "id": "fe53921c",
   "metadata": {},
   "outputs": [
    {
     "data": {
      "text/plain": [
       "CMG   close    0.673273\n",
       "GOOG  close    0.638032\n",
       "IBM   close    0.225280\n",
       "XLB   close    0.339542\n",
       "dtype: float64"
      ]
     },
     "execution_count": 77,
     "metadata": {},
     "output_type": "execute_result"
    }
   ],
   "source": [
    "sharpe_ratios = average_annual_return / annualized_standard_deviation\n",
    "\n",
    "sharpe_ratios"
   ]
  },
  {
   "cell_type": "code",
   "execution_count": 70,
   "id": "ec179656-0d75-44e2-a45f-1cb44bdeb54f",
   "metadata": {},
   "outputs": [
    {
     "name": "stdout",
     "output_type": "stream",
     "text": [
      "Current portfolio expected return\n",
      "Current portfolio volatility\n",
      "Current portfolio sharpe ratio\n"
     ]
    }
   ],
   "source": [
    "print(\"Current portfolio expected return\")\n",
    "print(\"Current portfolio volatility\")\n",
    "print(\"Current portfolio sharpe ratio\")"
   ]
  },
  {
   "cell_type": "code",
   "execution_count": null,
   "id": "28d0294b",
   "metadata": {},
   "outputs": [],
   "source": [
    "portfolio_weights = np.array(portfolio_weights)\n",
    "#Annual expected return by the weighted average of the historical average of daily returns of each security, multiplied by 252\n",
    "expected_annual_return = np.sum(portfolio_daily_returns.mean() * portfolio_weights) * 252\n",
    "# Annual Portfolio Variance = w.T * Covariance * w    (where \"*\" represents here the matrix multiplication) OBS: Var_annual = Var_daily * 252\n",
    "# np.dot function does a matrix multiplication. Another alternative is np.matmul\n",
    "portfolio_variance = np.dot( portfolio_weights.T,   np.dot(   portfolio_daily_returns.cov() * 252, portfolio_weights   ))\n",
    "portfolio_volatility = np.sqrt(portfolio_variance)\n",
    "#Sharpe Ratio (annual) (Assumed risk_free_rate=0)\n",
    "risk_free_rate_annualized=0\n",
    "sharpe_ratio = (expected_annual_return - risk_free_rate_annualized)/portfolio_volatility"
   ]
  },
  {
   "cell_type": "markdown",
   "id": "f1cac46d-97b1-42c4-95d3-3099fa4936e1",
   "metadata": {},
   "source": [
    "---"
   ]
  },
  {
   "cell_type": "markdown",
   "id": "02fc31e1-dfdf-4822-8341-b932579bf281",
   "metadata": {},
   "source": [
    "# My Optimized Portfolio"
   ]
  },
  {
   "cell_type": "code",
   "execution_count": 8,
   "id": "8dd4d1ab-d3fb-4d63-aa26-4784eed883e4",
   "metadata": {},
   "outputs": [
    {
     "name": "stdout",
     "output_type": "stream",
     "text": [
      "Optimized portfolio expected return\n",
      "Optimized portfolio volatility\n",
      "Optimized portfolio sharpe ratio\n"
     ]
    }
   ],
   "source": [
    "print(\"Optimized portfolio expected return\")\n",
    "print(\"Optimized portfolio volatility\")\n",
    "print(\"Optimized portfolio sharpe ratio\")"
   ]
  },
  {
   "cell_type": "code",
   "execution_count": null,
   "id": "e2b988d6-9aa6-4218-b24c-50a33042b4b5",
   "metadata": {},
   "outputs": [],
   "source": []
  }
 ],
 "metadata": {
  "interpreter": {
   "hash": "d3a676af4db46f34b6d0f2188579b49684d85b3057ffe60e59c1db99d12456b7"
  },
  "kernelspec": {
   "display_name": "Python [conda env:dev]",
   "language": "python",
   "name": "conda-env-dev-py"
  },
  "language_info": {
   "codemirror_mode": {
    "name": "ipython",
    "version": 3
   },
   "file_extension": ".py",
   "mimetype": "text/x-python",
   "name": "python",
   "nbconvert_exporter": "python",
   "pygments_lexer": "ipython3",
   "version": "3.7.10"
  }
 },
 "nbformat": 4,
 "nbformat_minor": 5
}
