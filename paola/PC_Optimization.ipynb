{
 "cells": [
  {
   "cell_type": "markdown",
   "id": "731a415f",
   "metadata": {},
   "source": [
    "#  OPTIMIZATION\n",
    "Paola -"
   ]
  },
  {
   "cell_type": "code",
   "execution_count": null,
   "id": "79d6ecb5",
   "metadata": {},
   "outputs": [],
   "source": [
    "Optimizes the Sharpe Ratio of a portfolio based on the risk profile of the user.\n",
    "1. Import data\n",
    "2. Calculate returns\n",
    "3. Determine constraints base on risk assesment\n",
    "4. Optimizes portfolio for optimal asset allocation to maximize sharpe ratio\n",
    "5. Optimizes portfolio for maximum Sharpe, independent of risk profile to assess maximum range of possibilities later with MontCarlo Simulation"
   ]
  }
 ],
 "metadata": {
  "kernelspec": {
   "display_name": "Python (dev)",
   "language": "python",
   "name": "dev"
  },
  "language_info": {
   "codemirror_mode": {
    "name": "ipython",
    "version": 3
   },
   "file_extension": ".py",
   "mimetype": "text/x-python",
   "name": "python",
   "nbconvert_exporter": "python",
   "pygments_lexer": "ipython3",
   "version": "3.7.10"
  }
 },
 "nbformat": 4,
 "nbformat_minor": 5
}
