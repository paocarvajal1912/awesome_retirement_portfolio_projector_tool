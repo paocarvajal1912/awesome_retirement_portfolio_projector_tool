{
 "cells": [
  {
   "cell_type": "markdown",
   "id": "be0ea4fd",
   "metadata": {},
   "source": [
    "![alt text](awesome_logo.png \"Awesome Retirement Portfolio Projector Tool\")"
   ]
  },
  {
   "cell_type": "markdown",
   "id": "b6cd63fd-7a4e-44bd-848b-3509429e4a76",
   "metadata": {},
   "source": [
    "# My Portfolio"
   ]
  },
  {
   "cell_type": "code",
   "execution_count": 1,
   "id": "da8af8da-0490-48e3-8da9-4062d5d209cc",
   "metadata": {},
   "outputs": [],
   "source": [
    "import sqlalchemy as sql\n",
    "import pandas as pd\n",
    "import os\n",
    "import datetime\n",
    "import alpaca_trade_api as tradeapi\n",
    "from dotenv import load_dotenv\n",
    "\n",
    "load_dotenv()\n",
    "\n",
    "# Set Alpaca API key and secret\n",
    "alpaca_api_key = os.getenv(\"ALPACA_API_KEY\")\n",
    "alpaca_secret_key = os.getenv(\"ALPACA_SECRET_KEY\")"
   ]
  },
  {
   "cell_type": "code",
   "execution_count": 2,
   "id": "44f09866-4b9b-495a-bd9f-476a82ffdba3",
   "metadata": {},
   "outputs": [],
   "source": [
    "# Create the Alpaca API object\n",
    "alpaca = tradeapi.REST(\n",
    "    alpaca_api_key,\n",
    "    alpaca_secret_key,\n",
    "    api_version=\"v2\"\n",
    ")"
   ]
  },
  {
   "cell_type": "code",
   "execution_count": 3,
   "id": "265fdf19",
   "metadata": {},
   "outputs": [
    {
     "data": {
      "text/html": [
       "<div>\n",
       "<style scoped>\n",
       "    .dataframe tbody tr th:only-of-type {\n",
       "        vertical-align: middle;\n",
       "    }\n",
       "\n",
       "    .dataframe tbody tr th {\n",
       "        vertical-align: top;\n",
       "    }\n",
       "\n",
       "    .dataframe thead th {\n",
       "        text-align: right;\n",
       "    }\n",
       "</style>\n",
       "<table border=\"1\" class=\"dataframe\">\n",
       "  <thead>\n",
       "    <tr style=\"text-align: right;\">\n",
       "      <th></th>\n",
       "      <th>symbol</th>\n",
       "      <th>quantity</th>\n",
       "      <th>type</th>\n",
       "    </tr>\n",
       "  </thead>\n",
       "  <tbody>\n",
       "    <tr>\n",
       "      <th>0</th>\n",
       "      <td>GOOG</td>\n",
       "      <td>10.0</td>\n",
       "      <td>Equity</td>\n",
       "    </tr>\n",
       "    <tr>\n",
       "      <th>1</th>\n",
       "      <td>CMG</td>\n",
       "      <td>20.0</td>\n",
       "      <td>Equity</td>\n",
       "    </tr>\n",
       "    <tr>\n",
       "      <th>2</th>\n",
       "      <td>IBM</td>\n",
       "      <td>50.0</td>\n",
       "      <td>Equity</td>\n",
       "    </tr>\n",
       "    <tr>\n",
       "      <th>3</th>\n",
       "      <td>XLB</td>\n",
       "      <td>100.0</td>\n",
       "      <td>Equity</td>\n",
       "    </tr>\n",
       "  </tbody>\n",
       "</table>\n",
       "</div>"
      ],
      "text/plain": [
       "  symbol  quantity    type\n",
       "0   GOOG      10.0  Equity\n",
       "1    CMG      20.0  Equity\n",
       "2    IBM      50.0  Equity\n",
       "3    XLB     100.0  Equity"
      ]
     },
     "execution_count": 3,
     "metadata": {},
     "output_type": "execute_result"
    }
   ],
   "source": [
    "# Get porfolio and report data from user\n",
    "connection_string = 'sqlite:///awesome_app.db'\n",
    "engine = sql.create_engine(connection_string, echo=False)\n",
    "\n",
    "portfolio_df = pd.read_sql_query(\"SELECT * FROM portfolio\", engine)\n",
    "\n",
    "report_df = pd.read_sql_query(\"SELECT * FROM report\", engine)\n",
    "[risk_tolerance, years_until_retirement] = report_df.iloc[0]\n",
    "\n",
    "portfolio_df"
   ]
  },
  {
   "cell_type": "code",
   "execution_count": 4,
   "id": "f5a5dc7b-32ef-4fa3-b2d8-14c3b4373760",
   "metadata": {},
   "outputs": [
    {
     "name": "stdout",
     "output_type": "stream",
     "text": [
      "My risk level is high.\n",
      "I plan on retiring in 20.0 years.\n"
     ]
    }
   ],
   "source": [
    "print(f\"My risk level is {risk_tolerance}.\")\n",
    "print(f\"I plan on retiring in {years_until_retirement} years.\")"
   ]
  },
  {
   "cell_type": "code",
   "execution_count": 5,
   "id": "4985697a-356e-4676-afe2-f1b74e703ca0",
   "metadata": {},
   "outputs": [
    {
     "data": {
      "text/html": [
       "<div>\n",
       "<style scoped>\n",
       "    .dataframe tbody tr th:only-of-type {\n",
       "        vertical-align: middle;\n",
       "    }\n",
       "\n",
       "    .dataframe tbody tr th {\n",
       "        vertical-align: top;\n",
       "    }\n",
       "\n",
       "    .dataframe thead tr th {\n",
       "        text-align: left;\n",
       "    }\n",
       "\n",
       "    .dataframe thead tr:last-of-type th {\n",
       "        text-align: right;\n",
       "    }\n",
       "</style>\n",
       "<table border=\"1\" class=\"dataframe\">\n",
       "  <thead>\n",
       "    <tr>\n",
       "      <th></th>\n",
       "      <th>CMG</th>\n",
       "      <th>GOOG</th>\n",
       "      <th>IBM</th>\n",
       "      <th>XLB</th>\n",
       "    </tr>\n",
       "    <tr>\n",
       "      <th></th>\n",
       "      <th>close</th>\n",
       "      <th>close</th>\n",
       "      <th>close</th>\n",
       "      <th>close</th>\n",
       "    </tr>\n",
       "    <tr>\n",
       "      <th>time</th>\n",
       "      <th></th>\n",
       "      <th></th>\n",
       "      <th></th>\n",
       "      <th></th>\n",
       "    </tr>\n",
       "  </thead>\n",
       "  <tbody>\n",
       "    <tr>\n",
       "      <th>2008-01-02 00:00:00-05:00</th>\n",
       "      <td>146.68</td>\n",
       "      <td>342.59</td>\n",
       "      <td>104.79</td>\n",
       "      <td>41.33</td>\n",
       "    </tr>\n",
       "    <tr>\n",
       "      <th>2008-01-03 00:00:00-05:00</th>\n",
       "      <td>141.46</td>\n",
       "      <td>342.49</td>\n",
       "      <td>104.94</td>\n",
       "      <td>41.80</td>\n",
       "    </tr>\n",
       "    <tr>\n",
       "      <th>2008-01-04 00:00:00-05:00</th>\n",
       "      <td>127.12</td>\n",
       "      <td>328.48</td>\n",
       "      <td>101.11</td>\n",
       "      <td>40.74</td>\n",
       "    </tr>\n",
       "    <tr>\n",
       "      <th>2008-01-07 00:00:00-05:00</th>\n",
       "      <td>123.61</td>\n",
       "      <td>324.34</td>\n",
       "      <td>100.14</td>\n",
       "      <td>40.25</td>\n",
       "    </tr>\n",
       "    <tr>\n",
       "      <th>2008-01-08 00:00:00-05:00</th>\n",
       "      <td>117.77</td>\n",
       "      <td>315.66</td>\n",
       "      <td>97.39</td>\n",
       "      <td>39.60</td>\n",
       "    </tr>\n",
       "    <tr>\n",
       "      <th>...</th>\n",
       "      <td>...</td>\n",
       "      <td>...</td>\n",
       "      <td>...</td>\n",
       "      <td>...</td>\n",
       "    </tr>\n",
       "    <tr>\n",
       "      <th>2021-08-09 00:00:00-04:00</th>\n",
       "      <td>1875.23</td>\n",
       "      <td>2758.87</td>\n",
       "      <td>141.24</td>\n",
       "      <td>84.06</td>\n",
       "    </tr>\n",
       "    <tr>\n",
       "      <th>2021-08-10 00:00:00-04:00</th>\n",
       "      <td>1866.79</td>\n",
       "      <td>2763.32</td>\n",
       "      <td>141.41</td>\n",
       "      <td>85.31</td>\n",
       "    </tr>\n",
       "    <tr>\n",
       "      <th>2021-08-11 00:00:00-04:00</th>\n",
       "      <td>1856.10</td>\n",
       "      <td>2752.99</td>\n",
       "      <td>142.15</td>\n",
       "      <td>86.52</td>\n",
       "    </tr>\n",
       "    <tr>\n",
       "      <th>2021-08-12 00:00:00-04:00</th>\n",
       "      <td>1875.99</td>\n",
       "      <td>2767.78</td>\n",
       "      <td>143.07</td>\n",
       "      <td>86.37</td>\n",
       "    </tr>\n",
       "    <tr>\n",
       "      <th>2021-08-13 00:00:00-04:00</th>\n",
       "      <td>1888.44</td>\n",
       "      <td>2769.18</td>\n",
       "      <td>143.20</td>\n",
       "      <td>86.45</td>\n",
       "    </tr>\n",
       "  </tbody>\n",
       "</table>\n",
       "<p>3433 rows × 4 columns</p>\n",
       "</div>"
      ],
      "text/plain": [
       "                               CMG     GOOG     IBM    XLB\n",
       "                             close    close   close  close\n",
       "time                                                      \n",
       "2008-01-02 00:00:00-05:00   146.68   342.59  104.79  41.33\n",
       "2008-01-03 00:00:00-05:00   141.46   342.49  104.94  41.80\n",
       "2008-01-04 00:00:00-05:00   127.12   328.48  101.11  40.74\n",
       "2008-01-07 00:00:00-05:00   123.61   324.34  100.14  40.25\n",
       "2008-01-08 00:00:00-05:00   117.77   315.66   97.39  39.60\n",
       "...                            ...      ...     ...    ...\n",
       "2021-08-09 00:00:00-04:00  1875.23  2758.87  141.24  84.06\n",
       "2021-08-10 00:00:00-04:00  1866.79  2763.32  141.41  85.31\n",
       "2021-08-11 00:00:00-04:00  1856.10  2752.99  142.15  86.52\n",
       "2021-08-12 00:00:00-04:00  1875.99  2767.78  143.07  86.37\n",
       "2021-08-13 00:00:00-04:00  1888.44  2769.18  143.20  86.45\n",
       "\n",
       "[3433 rows x 4 columns]"
      ]
     },
     "execution_count": 5,
     "metadata": {},
     "output_type": "execute_result"
    }
   ],
   "source": [
    "# Set the tickers\n",
    "tickers = portfolio_df[\"symbol\"]\n",
    "# Set timeframe to one day ('1D') for the Alpaca API\n",
    "timeframe = \"1D\"\n",
    "# Set the number of years of data to fetch\n",
    "num_years = 30\n",
    "\n",
    "# Fetch batches of data from alpaca api to get as miuch hostorical data as possible (up to num_years)\n",
    "batch_size = 1000\n",
    "num_days_data_needed = num_years * 365\n",
    "first_date = datetime.datetime.now()\n",
    "last_date = first_date - datetime.timedelta(days=num_days_data_needed)\n",
    "\n",
    "def format_date_iso(date):\n",
    "    return pd.Timestamp(date, tz=\"America/New_York\").isoformat()\n",
    "\n",
    "# empty DF to hold alpaca data\n",
    "all_results_df = pd.DataFrame()\n",
    "\n",
    "\n",
    "next_batch_date = first_date\n",
    "while num_days_data_needed > 0:\n",
    "    end_date = str(next_batch_date).split()[0]\n",
    "    \n",
    "    next_batch_date -= datetime.timedelta(days=batch_size)\n",
    "    if next_batch_date < last_date:\n",
    "        next_batch_date = last_date\n",
    "\n",
    "    start_date = str(next_batch_date).split()[0]\n",
    "    \n",
    "    results_batch_df = alpaca.get_barset(\n",
    "        tickers,\n",
    "        timeframe,\n",
    "        start = format_date_iso(start_date),\n",
    "        end = format_date_iso(end_date),\n",
    "        limit = batch_size\n",
    "    ).df\n",
    "    \n",
    "    results_batch_df.drop(['open', 'high', 'low', 'volume'], level=1, axis=1, inplace=True)\n",
    "\n",
    "    all_results_df = pd.concat([all_results_df, results_batch_df])\n",
    "    num_days_data_needed -= batch_size\n",
    "\n",
    "all_results_df.sort_index(inplace=True)\n",
    "\n",
    "# Display data\n",
    "all_results_df"
   ]
  },
  {
   "cell_type": "code",
   "execution_count": 11,
   "id": "5e714b7e-e083-4e49-92a4-6722473f43e9",
   "metadata": {},
   "outputs": [
    {
     "data": {
      "text/html": [
       "<div>\n",
       "<style scoped>\n",
       "    .dataframe tbody tr th:only-of-type {\n",
       "        vertical-align: middle;\n",
       "    }\n",
       "\n",
       "    .dataframe tbody tr th {\n",
       "        vertical-align: top;\n",
       "    }\n",
       "\n",
       "    .dataframe thead th {\n",
       "        text-align: right;\n",
       "    }\n",
       "</style>\n",
       "<table border=\"1\" class=\"dataframe\">\n",
       "  <thead>\n",
       "    <tr style=\"text-align: right;\">\n",
       "      <th></th>\n",
       "      <th>symbol</th>\n",
       "      <th>quantity</th>\n",
       "      <th>type</th>\n",
       "      <th>price</th>\n",
       "      <th>total</th>\n",
       "    </tr>\n",
       "  </thead>\n",
       "  <tbody>\n",
       "    <tr>\n",
       "      <th>0</th>\n",
       "      <td>GOOG</td>\n",
       "      <td>10.0</td>\n",
       "      <td>Equity</td>\n",
       "      <td>2769.18</td>\n",
       "      <td>27691.8</td>\n",
       "    </tr>\n",
       "    <tr>\n",
       "      <th>1</th>\n",
       "      <td>CMG</td>\n",
       "      <td>20.0</td>\n",
       "      <td>Equity</td>\n",
       "      <td>1888.44</td>\n",
       "      <td>37768.8</td>\n",
       "    </tr>\n",
       "    <tr>\n",
       "      <th>2</th>\n",
       "      <td>IBM</td>\n",
       "      <td>50.0</td>\n",
       "      <td>Equity</td>\n",
       "      <td>143.20</td>\n",
       "      <td>7160.0</td>\n",
       "    </tr>\n",
       "    <tr>\n",
       "      <th>3</th>\n",
       "      <td>XLB</td>\n",
       "      <td>100.0</td>\n",
       "      <td>Equity</td>\n",
       "      <td>86.45</td>\n",
       "      <td>8645.0</td>\n",
       "    </tr>\n",
       "  </tbody>\n",
       "</table>\n",
       "</div>"
      ],
      "text/plain": [
       "  symbol  quantity    type    price    total\n",
       "0   GOOG      10.0  Equity  2769.18  27691.8\n",
       "1    CMG      20.0  Equity  1888.44  37768.8\n",
       "2    IBM      50.0  Equity   143.20   7160.0\n",
       "3    XLB     100.0  Equity    86.45   8645.0"
      ]
     },
     "metadata": {},
     "output_type": "display_data"
    },
    {
     "name": "stdout",
     "output_type": "stream",
     "text": [
      "Total portfolio valus is $81265.60\n"
     ]
    }
   ],
   "source": [
    "last_price = []\n",
    "for t in portfolio_df['symbol']:\n",
    "    last_price.append(all_results_df[t]['close'][-1])\n",
    "\n",
    "portfolio_df['price'] = last_price\n",
    "portfolio_df['total'] = portfolio_df['price'] * portfolio_df['quantity']\n",
    "total_portfolio_value = portfolio_df['total'].sum()\n",
    "\n",
    "display(portfolio_df)\n",
    "print(f\"Total portfolio valus is ${total_portfolio_value:.2f}\")"
   ]
  },
  {
   "cell_type": "code",
   "execution_count": 7,
   "id": "00948a48-fd14-4492-b527-f1b07d3f3365",
   "metadata": {},
   "outputs": [
    {
     "data": {
      "text/plain": [
       "<AxesSubplot:xlabel='time'>"
      ]
     },
     "execution_count": 7,
     "metadata": {},
     "output_type": "execute_result"
    },
    {
     "data": {
      "image/png": "[encoded data removed]",
      "text/plain": [
       "<Figure size 1440x720 with 1 Axes>"
      ]
     },
     "metadata": {
      "needs_background": "light"
     },
     "output_type": "display_data"
    }
   ],
   "source": [
    "all_close_df = all_results_df.xs('close', axis=1, level=1, drop_level=False)\n",
    "all_close_df.plot(figsize=[20, 10])"
   ]
  },
  {
   "cell_type": "code",
   "execution_count": 8,
   "id": "ec179656-0d75-44e2-a45f-1cb44bdeb54f",
   "metadata": {},
   "outputs": [
    {
     "name": "stdout",
     "output_type": "stream",
     "text": [
      "Current portfolio expected return\n",
      "Current portfolio volatility\n",
      "Current portfolio sharpe ratio\n"
     ]
    }
   ],
   "source": [
    "print(\"Current portfolio expected return\")\n",
    "print(\"Current portfolio volatility\")\n",
    "print(\"Current portfolio sharpe ratio\")"
   ]
  },
  {
   "cell_type": "markdown",
   "id": "f1cac46d-97b1-42c4-95d3-3099fa4936e1",
   "metadata": {},
   "source": [
    "---"
   ]
  },
  {
   "cell_type": "markdown",
   "id": "02fc31e1-dfdf-4822-8341-b932579bf281",
   "metadata": {},
   "source": [
    "# My Optimized Portfolio"
   ]
  },
  {
   "cell_type": "code",
   "execution_count": 9,
   "id": "8dd4d1ab-d3fb-4d63-aa26-4784eed883e4",
   "metadata": {},
   "outputs": [
    {
     "name": "stdout",
     "output_type": "stream",
     "text": [
      "Optimized portfolio expected return\n",
      "Optimized portfolio volatility\n",
      "Optimized portfolio sharpe ratio\n"
     ]
    }
   ],
   "source": [
    "print(\"Optimized portfolio expected return\")\n",
    "print(\"Optimized portfolio volatility\")\n",
    "print(\"Optimized portfolio sharpe ratio\")"
   ]
  },
  {
   "cell_type": "code",
   "execution_count": null,
   "id": "e2b988d6-9aa6-4218-b24c-50a33042b4b5",
   "metadata": {},
   "outputs": [],
   "source": []
  }
 ],
 "metadata": {
  "interpreter": {
   "hash": "d3a676af4db46f34b6d0f2188579b49684d85b3057ffe60e59c1db99d12456b7"
  },
  "kernelspec": {
   "display_name": "dev",
   "language": "python",
   "name": "dev"
  },
  "language_info": {
   "codemirror_mode": {
    "name": "ipython",
    "version": 3
   },
   "file_extension": ".py",
   "mimetype": "text/x-python",
   "name": "python",
   "nbconvert_exporter": "python",
   "pygments_lexer": "ipython3",
   "version": "3.7.10"
  }
 },
 "nbformat": 4,
 "nbformat_minor": 5
}
