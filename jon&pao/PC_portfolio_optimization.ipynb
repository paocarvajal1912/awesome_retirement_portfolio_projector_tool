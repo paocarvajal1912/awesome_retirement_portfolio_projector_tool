{
 "cells": [
  {
   "cell_type": "markdown",
   "metadata": {},
   "source": [
    "# Portfolio Optimization - \n",
    "Based on https://examples.pyviz.org/portfolio_optimizer/portfolio.html#portfolio-optimizer-gallery-portfolio"
   ]
  },
  {
   "cell_type": "markdown",
   "metadata": {},
   "source": [
    "Optimizes the Sharpe Ratio of a portfolio based on the risk profile of the user.\n",
    "1. Import data\n",
    "2. Calculate returns\n",
    "3. Determine constraints base on risk assesment\n",
    "4. Optimizes portfolio for optimal asset allocation to maximize sharpe ratio"
   ]
  },
  {
   "cell_type": "code",
   "execution_count": 21,
   "metadata": {},
   "outputs": [],
   "source": [
    "import numpy as np\n",
    "import pandas as pd\n",
    "import hvplot.pandas  \n",
    "from scipy.optimize import minimize, Bounds"
   ]
  },
  {
   "cell_type": "code",
   "execution_count": 22,
   "metadata": {},
   "outputs": [],
   "source": [
    "portfolio_prices = pd.read_csv('./daily_prices_input_portfolio_optimization.csv', index_col='Date', parse_dates=True)"
   ]
  },
  {
   "cell_type": "code",
   "execution_count": 23,
   "metadata": {},
   "outputs": [
    {
     "data": {
      "text/html": [
       "<div>\n",
       "<style scoped>\n",
       "    .dataframe tbody tr th:only-of-type {\n",
       "        vertical-align: middle;\n",
       "    }\n",
       "\n",
       "    .dataframe tbody tr th {\n",
       "        vertical-align: top;\n",
       "    }\n",
       "\n",
       "    .dataframe thead th {\n",
       "        text-align: right;\n",
       "    }\n",
       "</style>\n",
       "<table border=\"1\" class=\"dataframe\">\n",
       "  <thead>\n",
       "    <tr style=\"text-align: right;\">\n",
       "      <th></th>\n",
       "      <th>AGG</th>\n",
       "      <th>SPY</th>\n",
       "      <th>AAPL</th>\n",
       "      <th>CISCO</th>\n",
       "    </tr>\n",
       "    <tr>\n",
       "      <th>Date</th>\n",
       "      <th></th>\n",
       "      <th></th>\n",
       "      <th></th>\n",
       "      <th></th>\n",
       "    </tr>\n",
       "  </thead>\n",
       "  <tbody>\n",
       "    <tr>\n",
       "      <th>2012-01-03</th>\n",
       "      <td>160.830881</td>\n",
       "      <td>179.03</td>\n",
       "      <td>53.063218</td>\n",
       "      <td>15.752778</td>\n",
       "    </tr>\n",
       "    <tr>\n",
       "      <th>2012-01-04</th>\n",
       "      <td>160.174781</td>\n",
       "      <td>177.51</td>\n",
       "      <td>53.348386</td>\n",
       "      <td>16.057180</td>\n",
       "    </tr>\n",
       "    <tr>\n",
       "      <th>2012-01-05</th>\n",
       "      <td>159.415086</td>\n",
       "      <td>177.61</td>\n",
       "      <td>53.940658</td>\n",
       "      <td>15.997991</td>\n",
       "    </tr>\n",
       "    <tr>\n",
       "      <th>2012-01-06</th>\n",
       "      <td>157.584912</td>\n",
       "      <td>182.61</td>\n",
       "      <td>54.504543</td>\n",
       "      <td>15.938801</td>\n",
       "    </tr>\n",
       "    <tr>\n",
       "      <th>2012-01-09</th>\n",
       "      <td>156.764787</td>\n",
       "      <td>178.56</td>\n",
       "      <td>54.418089</td>\n",
       "      <td>16.040268</td>\n",
       "    </tr>\n",
       "  </tbody>\n",
       "</table>\n",
       "</div>"
      ],
      "text/plain": [
       "                   AGG     SPY       AAPL      CISCO\n",
       "Date                                                \n",
       "2012-01-03  160.830881  179.03  53.063218  15.752778\n",
       "2012-01-04  160.174781  177.51  53.348386  16.057180\n",
       "2012-01-05  159.415086  177.61  53.940658  15.997991\n",
       "2012-01-06  157.584912  182.61  54.504543  15.938801\n",
       "2012-01-09  156.764787  178.56  54.418089  16.040268"
      ]
     },
     "execution_count": 23,
     "metadata": {},
     "output_type": "execute_result"
    }
   ],
   "source": [
    "portfolio_prices.head()"
   ]
  },
  {
   "cell_type": "code",
   "execution_count": 24,
   "metadata": {},
   "outputs": [
    {
     "data": {
      "text/html": [
       "<div>\n",
       "<style scoped>\n",
       "    .dataframe tbody tr th:only-of-type {\n",
       "        vertical-align: middle;\n",
       "    }\n",
       "\n",
       "    .dataframe tbody tr th {\n",
       "        vertical-align: top;\n",
       "    }\n",
       "\n",
       "    .dataframe thead th {\n",
       "        text-align: right;\n",
       "    }\n",
       "</style>\n",
       "<table border=\"1\" class=\"dataframe\">\n",
       "  <thead>\n",
       "    <tr style=\"text-align: right;\">\n",
       "      <th></th>\n",
       "      <th>AGG</th>\n",
       "      <th>SPY</th>\n",
       "      <th>AAPL</th>\n",
       "      <th>CISCO</th>\n",
       "    </tr>\n",
       "    <tr>\n",
       "      <th>Date</th>\n",
       "      <th></th>\n",
       "      <th></th>\n",
       "      <th></th>\n",
       "      <th></th>\n",
       "    </tr>\n",
       "  </thead>\n",
       "  <tbody>\n",
       "    <tr>\n",
       "      <th>2012-01-04</th>\n",
       "      <td>-0.004079</td>\n",
       "      <td>-0.008490</td>\n",
       "      <td>0.005374</td>\n",
       "      <td>0.019324</td>\n",
       "    </tr>\n",
       "    <tr>\n",
       "      <th>2012-01-05</th>\n",
       "      <td>-0.004743</td>\n",
       "      <td>0.000563</td>\n",
       "      <td>0.011102</td>\n",
       "      <td>-0.003686</td>\n",
       "    </tr>\n",
       "    <tr>\n",
       "      <th>2012-01-06</th>\n",
       "      <td>-0.011481</td>\n",
       "      <td>0.028152</td>\n",
       "      <td>0.010454</td>\n",
       "      <td>-0.003700</td>\n",
       "    </tr>\n",
       "    <tr>\n",
       "      <th>2012-01-09</th>\n",
       "      <td>-0.005204</td>\n",
       "      <td>-0.022178</td>\n",
       "      <td>-0.001586</td>\n",
       "      <td>0.006366</td>\n",
       "    </tr>\n",
       "    <tr>\n",
       "      <th>2012-01-10</th>\n",
       "      <td>-0.001542</td>\n",
       "      <td>0.004368</td>\n",
       "      <td>0.003580</td>\n",
       "      <td>-0.007380</td>\n",
       "    </tr>\n",
       "  </tbody>\n",
       "</table>\n",
       "</div>"
      ],
      "text/plain": [
       "                 AGG       SPY      AAPL     CISCO\n",
       "Date                                              \n",
       "2012-01-04 -0.004079 -0.008490  0.005374  0.019324\n",
       "2012-01-05 -0.004743  0.000563  0.011102 -0.003686\n",
       "2012-01-06 -0.011481  0.028152  0.010454 -0.003700\n",
       "2012-01-09 -0.005204 -0.022178 -0.001586  0.006366\n",
       "2012-01-10 -0.001542  0.004368  0.003580 -0.007380"
      ]
     },
     "execution_count": 24,
     "metadata": {},
     "output_type": "execute_result"
    }
   ],
   "source": [
    "portfolio_daily_returns = portfolio_prices.pct_change(1).dropna()\n",
    "portfolio_daily_returns.head()"
   ]
  },
  {
   "cell_type": "code",
   "execution_count": 25,
   "metadata": {},
   "outputs": [
    {
     "data": {
      "text/html": [
       "<div>\n",
       "<style scoped>\n",
       "    .dataframe tbody tr th:only-of-type {\n",
       "        vertical-align: middle;\n",
       "    }\n",
       "\n",
       "    .dataframe tbody tr th {\n",
       "        vertical-align: top;\n",
       "    }\n",
       "\n",
       "    .dataframe thead th {\n",
       "        text-align: right;\n",
       "    }\n",
       "</style>\n",
       "<table border=\"1\" class=\"dataframe\">\n",
       "  <thead>\n",
       "    <tr style=\"text-align: right;\">\n",
       "      <th></th>\n",
       "      <th>AGG</th>\n",
       "      <th>SPY</th>\n",
       "      <th>AAPL</th>\n",
       "      <th>CISCO</th>\n",
       "    </tr>\n",
       "  </thead>\n",
       "  <tbody>\n",
       "    <tr>\n",
       "      <th>AGG</th>\n",
       "      <td>1.000000</td>\n",
       "      <td>0.258492</td>\n",
       "      <td>0.297498</td>\n",
       "      <td>0.424672</td>\n",
       "    </tr>\n",
       "    <tr>\n",
       "      <th>SPY</th>\n",
       "      <td>0.258492</td>\n",
       "      <td>1.000000</td>\n",
       "      <td>0.235487</td>\n",
       "      <td>0.284470</td>\n",
       "    </tr>\n",
       "    <tr>\n",
       "      <th>AAPL</th>\n",
       "      <td>0.297498</td>\n",
       "      <td>0.235487</td>\n",
       "      <td>1.000000</td>\n",
       "      <td>0.301990</td>\n",
       "    </tr>\n",
       "    <tr>\n",
       "      <th>CISCO</th>\n",
       "      <td>0.424672</td>\n",
       "      <td>0.284470</td>\n",
       "      <td>0.301990</td>\n",
       "      <td>1.000000</td>\n",
       "    </tr>\n",
       "  </tbody>\n",
       "</table>\n",
       "</div>"
      ],
      "text/plain": [
       "            AGG       SPY      AAPL     CISCO\n",
       "AGG    1.000000  0.258492  0.297498  0.424672\n",
       "SPY    0.258492  1.000000  0.235487  0.284470\n",
       "AAPL   0.297498  0.235487  1.000000  0.301990\n",
       "CISCO  0.424672  0.284470  0.301990  1.000000"
      ]
     },
     "execution_count": 25,
     "metadata": {},
     "output_type": "execute_result"
    }
   ],
   "source": [
    "# Calculates correlation of securities in the client_portfolio_prices\n",
    "portfolio_prices.pct_change(1).corr()"
   ]
  },
  {
   "cell_type": "markdown",
   "metadata": {},
   "source": [
    "## Switching to log returns\n",
    "\n",
    "We will switch over to using log returns instead of arithmetic returns, because they are more normal distributed.\n",
    "Log returns are similar to regular returns for small values, but reduce the size of outliers.\n",
    "\n",
    "For a full analysis of why we use log returns, check [this article](https://quantivity.wordpress.com/2011/02/21/why-log-returns/).\n"
   ]
  },
  {
   "cell_type": "code",
   "execution_count": 26,
   "metadata": {},
   "outputs": [
    {
     "data": {
      "text/html": [
       "<div>\n",
       "<style scoped>\n",
       "    .dataframe tbody tr th:only-of-type {\n",
       "        vertical-align: middle;\n",
       "    }\n",
       "\n",
       "    .dataframe tbody tr th {\n",
       "        vertical-align: top;\n",
       "    }\n",
       "\n",
       "    .dataframe thead th {\n",
       "        text-align: right;\n",
       "    }\n",
       "</style>\n",
       "<table border=\"1\" class=\"dataframe\">\n",
       "  <thead>\n",
       "    <tr style=\"text-align: right;\">\n",
       "      <th></th>\n",
       "      <th>AGG</th>\n",
       "      <th>SPY</th>\n",
       "      <th>AAPL</th>\n",
       "      <th>CISCO</th>\n",
       "    </tr>\n",
       "    <tr>\n",
       "      <th>Date</th>\n",
       "      <th></th>\n",
       "      <th></th>\n",
       "      <th></th>\n",
       "      <th></th>\n",
       "    </tr>\n",
       "  </thead>\n",
       "  <tbody>\n",
       "    <tr>\n",
       "      <th>2012-01-04</th>\n",
       "      <td>-0.004088</td>\n",
       "      <td>-0.008526</td>\n",
       "      <td>0.005360</td>\n",
       "      <td>0.019139</td>\n",
       "    </tr>\n",
       "    <tr>\n",
       "      <th>2012-01-05</th>\n",
       "      <td>-0.004754</td>\n",
       "      <td>0.000563</td>\n",
       "      <td>0.011041</td>\n",
       "      <td>-0.003693</td>\n",
       "    </tr>\n",
       "    <tr>\n",
       "      <th>2012-01-06</th>\n",
       "      <td>-0.011547</td>\n",
       "      <td>0.027763</td>\n",
       "      <td>0.010400</td>\n",
       "      <td>-0.003707</td>\n",
       "    </tr>\n",
       "    <tr>\n",
       "      <th>2012-01-09</th>\n",
       "      <td>-0.005218</td>\n",
       "      <td>-0.022428</td>\n",
       "      <td>-0.001587</td>\n",
       "      <td>0.006346</td>\n",
       "    </tr>\n",
       "    <tr>\n",
       "      <th>2012-01-10</th>\n",
       "      <td>-0.001543</td>\n",
       "      <td>0.004359</td>\n",
       "      <td>0.003574</td>\n",
       "      <td>-0.007407</td>\n",
       "    </tr>\n",
       "  </tbody>\n",
       "</table>\n",
       "</div>"
      ],
      "text/plain": [
       "                 AGG       SPY      AAPL     CISCO\n",
       "Date                                              \n",
       "2012-01-04 -0.004088 -0.008526  0.005360  0.019139\n",
       "2012-01-05 -0.004754  0.000563  0.011041 -0.003693\n",
       "2012-01-06 -0.011547  0.027763  0.010400 -0.003707\n",
       "2012-01-09 -0.005218 -0.022428 -0.001587  0.006346\n",
       "2012-01-10 -0.001543  0.004359  0.003574 -0.007407"
      ]
     },
     "execution_count": 26,
     "metadata": {},
     "output_type": "execute_result"
    }
   ],
   "source": [
    "log_daily_returns = np.log(portfolio_prices/portfolio_prices.shift(1)).dropna()\n",
    "log_daily_returns.head()"
   ]
  },
  {
   "cell_type": "code",
   "execution_count": 7,
   "metadata": {},
   "outputs": [
    {
     "data": {},
     "metadata": {},
     "output_type": "display_data"
    },
    {
     "data": {
      "application/vnd.holoviews_exec.v0+json": "",
      "text/html": [
       "<div id='1002'>\n",
       "\n",
       "\n",
       "\n",
       "\n",
       "\n",
       "  <div class=\"bk-root\" id=\"09310d98-fccd-4c1b-9f83-7199c3ea094b\" data-root-id=\"1002\"></div>\n",
       "</div>\n",
       "<script type=\"application/javascript\">(function(root) {\n",
       "  function embed_document(root) {\n",
       "    var docs_json = {\"e547b19d-7155-4fe0-8466-3cbb9e4d323d\":{\"defs\":[{\"extends\":null,\"module\":null,\"name\":\"ReactiveHTML1\",\"overrides\":[],\"properties\":[]},{\"extends\":null,\"module\":null,\"name\":\"FlexBox1\",\"overrides\":[],\"properties\":[{\"default\":\"flex-start\",\"kind\":null,\"name\":\"align_content\"},{\"default\":\"flex-start\",\"kind\":null,\"name\":\"align_items\"},{\"default\":\"row\",\"kind\":null,\"name\":\"flex_direction\"},{\"default\":\"wrap\",\"kind\":null,\"name\":\"flex_wrap\"},{\"default\":\"flex-start\",\"kind\":null,\"name\":\"justify_content\"}]},{\"extends\":null,\"module\":null,\"name\":\"TemplateActions1\",\"overrides\":[],\"properties\":[{\"default\":0,\"kind\":null,\"name\":\"open_modal\"},{\"default\":0,\"kind\":null,\"name\":\"close_modal\"}]},{\"extends\":null,\"module\":null,\"name\":\"MaterialTemplateActions1\",\"overrides\":[],\"properties\":[{\"default\":0,\"kind\":null,\"name\":\"open_modal\"},{\"default\":0,\"kind\":null,\"name\":\"close_modal\"}]}],\"roots\":{\"references\":[{\"attributes\":{},\"id\":\"1197\",\"type\":\"BasicTickFormatter\"},{\"attributes\":{},\"id\":\"1097\",\"type\":\"BasicTickFormatter\"},{\"attributes\":{\"bottom\":{\"value\":0},\"fill_alpha\":{\"value\":1.0},\"fill_color\":{\"value\":\"#30a2da\"},\"hatch_alpha\":{\"value\":1.0},\"hatch_color\":{\"value\":\"black\"},\"hatch_scale\":{\"value\":12.0},\"hatch_weight\":{\"value\":1.0},\"left\":{\"field\":\"left\"},\"line_alpha\":{\"value\":1.0},\"line_cap\":{\"value\":\"butt\"},\"line_color\":{\"value\":\"black\"},\"line_dash\":{\"value\":[]},\"line_dash_offset\":{\"value\":0},\"line_join\":{\"value\":\"bevel\"},\"line_width\":{\"value\":1},\"right\":{\"field\":\"right\"},\"top\":{\"field\":\"top\"}},\"id\":\"1195\",\"type\":\"Quad\"},{\"attributes\":{\"callback\":null,\"renderers\":[{\"id\":\"1043\"}],\"tags\":[\"hv_created\"],\"tooltips\":[[\"AGG\",\"@{AGG}\"],[\"Count\",\"@{AGG_count}\"]]},\"id\":\"1006\",\"type\":\"HoverTool\"},{\"attributes\":{\"bottom\":{\"value\":0},\"fill_alpha\":{\"value\":1.0},\"fill_color\":{\"value\":\"#30a2da\"},\"hatch_alpha\":{\"value\":1.0},\"hatch_color\":{\"value\":\"black\"},\"hatch_scale\":{\"value\":12.0},\"hatch_weight\":{\"value\":1.0},\"left\":{\"field\":\"left\"},\"line_alpha\":{\"value\":1.0},\"line_cap\":{\"value\":\"butt\"},\"line_color\":{\"value\":\"black\"},\"line_dash\":{\"value\":[]},\"line_dash_offset\":{\"value\":0},\"line_join\":{\"value\":\"bevel\"},\"line_width\":{\"value\":1},\"right\":{\"field\":\"right\"},\"top\":{\"field\":\"top\"}},\"id\":\"1095\",\"type\":\"Quad\"},{\"attributes\":{},\"id\":\"1200\",\"type\":\"BasicTickFormatter\"},{\"attributes\":{},\"id\":\"1100\",\"type\":\"BasicTickFormatter\"},{\"attributes\":{},\"id\":\"1198\",\"type\":\"AllLabels\"},{\"attributes\":{\"callback\":null,\"renderers\":[{\"id\":\"1193\"}],\"tags\":[\"hv_created\"],\"tooltips\":[[\"CISCO\",\"@{CISCO}\"],[\"Count\",\"@{CISCO_count}\"]]},\"id\":\"1156\",\"type\":\"HoverTool\"},{\"attributes\":{},\"id\":\"1098\",\"type\":\"AllLabels\"},{\"attributes\":{},\"id\":\"1112\",\"type\":\"LinearScale\"},{\"attributes\":{\"below\":[{\"id\":\"1166\"}],\"center\":[{\"id\":\"1169\"},{\"id\":\"1173\"}],\"height\":300,\"left\":[{\"id\":\"1170\"}],\"margin\":null,\"min_border_bottom\":10,\"min_border_left\":10,\"min_border_right\":10,\"min_border_top\":10,\"renderers\":[{\"id\":\"1193\"}],\"sizing_mode\":\"fixed\",\"title\":{\"id\":\"1158\"},\"toolbar\":{\"id\":\"1180\"},\"toolbar_location\":null,\"width\":400,\"x_range\":{\"id\":\"1154\"},\"x_scale\":{\"id\":\"1162\"},\"y_range\":{\"id\":\"1155\"},\"y_scale\":{\"id\":\"1164\"}},\"id\":\"1157\",\"subtype\":\"Figure\",\"type\":\"Plot\"},{\"attributes\":{\"axis_label\":\"AAPL\",\"formatter\":{\"id\":\"1147\"},\"major_label_policy\":{\"id\":\"1148\"},\"ticker\":{\"id\":\"1117\"}},\"id\":\"1116\",\"type\":\"LinearAxis\"},{\"attributes\":{},\"id\":\"1211\",\"type\":\"UnionRenderers\"},{\"attributes\":{\"toolbar\":{\"id\":\"1249\"},\"toolbar_location\":\"above\"},\"id\":\"1250\",\"type\":\"ToolbarBox\"},{\"attributes\":{},\"id\":\"1162\",\"type\":\"LinearScale\"},{\"attributes\":{\"axis_label\":\"CISCO\",\"formatter\":{\"id\":\"1197\"},\"major_label_policy\":{\"id\":\"1198\"},\"ticker\":{\"id\":\"1167\"}},\"id\":\"1166\",\"type\":\"LinearAxis\"},{\"attributes\":{\"end\":0.1670828899307004,\"reset_end\":0.1670828899307004,\"reset_start\":-0.15273243730557537,\"start\":-0.15273243730557537,\"tags\":[[[\"AGG\",\"AGG\",null]]]},\"id\":\"1004\",\"type\":\"Range1d\"},{\"attributes\":{\"bottom\":{\"value\":0},\"fill_color\":{\"value\":\"#30a2da\"},\"left\":{\"field\":\"left\"},\"right\":{\"field\":\"right\"},\"top\":{\"field\":\"top\"}},\"id\":\"1190\",\"type\":\"Quad\"},{\"attributes\":{\"axis\":{\"id\":\"1116\"},\"ticker\":{\"id\":\"1117\"}},\"id\":\"1119\",\"type\":\"Grid\"},{\"attributes\":{},\"id\":\"1164\",\"type\":\"LinearScale\"},{\"attributes\":{\"data\":{\"AGG\":{\"__ndarray__\":\"ytuLmrazwL96FmnclVjAv1aijDzq+r+/thdHwKhEv78YjQFEZ46+v3gCvMcl2L2/2Hd2S+Qhvb867TDPomu8v5pi61Jhtbu/+tel1h//ur9cTWBa3ki6v7zCGt6ckrm/HTjVYVvcuL9+rY/lGSa4v94iSmnYb7e/QJgE7Za5tr+gDb9wVQO2vwCDefQTTbW/YvgzeNKWtL/Cbe77kOCzvyLjqH9PKrO/hFhjAw50sr/kzR2HzL2xv0VD2AqLB7G/priSjklRsL8NXJokEDavv85GDyyNya2/jzGEMwpdrL9RHPk6h/CqvxMHbkIEhKm/1PHiSYEXqL+V3FdR/qqmv1fHzFh7PqW/GLJBYPjRo7/ZnLZndWWiv5uHK2/y+KC/uuRA7d4Yn788uir82D+cv76PFAvTZpm/QmX+Gc2Nlr/EOugox7STv0YQ0jfB25C/lMt3jXYFjL+cdkuralOGv6AhH8leoYC/UJnlzaXedb/A3hkTHPVkvwBUd1k3MS0/IMlI/kKbaD+ADn1DubF3P0Dc6oPoioE/ODEXZvQ8hz8whkNIAO+MP5jtNxWGUJE/FBhOBowplD+QQmT3kQKXPxBteuiX25k/jJeQ2Z20nD8IwqbKo42fP0J23t1UM6E/gItp1tefoj/AoPTOWgykP/61f8fdeKU/PMsKwGDlpj984JW441GoP7r1ILFmvqk/+Aqsqekqqz84IDeibJesP3Y1wprvA64/tEpNk3Jwrz/5L+zFem6wP5i6MUK8JLE/OEV3vv3asT/Xz7w6P5GyP3ZaAreAR7M/FuVHM8L9sz+1b42vA7S0P1T60itFarU/9IQYqIYgtj+TD14kyNa2PzKao6AJjbc/0iTpHEtDuD9xry6ZjPm4PxA6dBXOr7k/r8S5kQ9muj9OT/8NURy7P+7ZRIqS0rs/jWSKBtSIvD8s78+CFT+9P8x5Ff9W9b0/bARbe5irvj8Kj6D32WG/P9QM87kNDMA/JNIVeC5nwD90lzg2T8LAP8RcW/RvHcE/FCJ+spB4wT9j56BwsdPBP7Kswy7SLsI/AnLm7PKJwj8=\",\"dtype\":\"float64\",\"order\":\"little\",\"shape\":[100]},\"AGG_count\":[0,0,0,0,0,0,0,0,0,0,0,0,0,0,0,0,1,0,0,0,1,0,0,1,0,1,3,0,0,2,0,0,1,0,5,3,1,3,5,12,17,29,44,60,91,117,160,145,153,118,77,80,41,30,19,12,9,6,1,2,3,1,1,1,0,1,0,0,0,0,0,0,0,0,0,0,0,0,0,0,0,0,0,0,0,0,0,0,0,0,0,0,0,0,0,0,0,0,0,0],\"left\":{\"__ndarray__\":\"cj6d+UbhwL8ieXo7JobAv9OzV30FK8C/Bt1pfsmfv79nUiQCiOm+v8jH3oVGM76/KD2ZCQV9vb+JslONw8a8v+onDhGCELy/Sp3IlEBau7+rEoMY/6O6vwyIPZy97bm/bP33H3w3ub/OcrKjOoG4vy7obCf5yre/j10nq7cUt7/w0uEudl62v1BInLI0qLW/sb1WNvPxtL8SMxG6sTu0v3Koyz1whbO/0x2GwS7Psr80k0BF7Riyv5UI+8irYrG/9X21TGqssL+s5t+gUeyvv27RVKjOf66/LrzJr0sTrb/wpj63yKarv7KRs75FOqq/dHwoxsLNqL80Z53NP2Gnv/ZREtW89KW/uDyH3DmIpL94J/zjthujvzoSceszr6G//Pzl8rBCoL98z7X0W6ydv/yknwNW05q/gHqJElD6l78EUHMhSiGVv4QlXTBESJK/EPaNfnzejr8YoWGccCyJvyBMNbpkeoO/QO4RsLGQe79gRLnrmSxwv4Bpgp0IIlO/gD7gc1ZuWj+AuVBhrf9xP4BjqSXFY30/wAYBde5jhD+wWy1X+hWKP7CwWTkGyI8/2ALDDQm9kj9QLdn+DpaVP9BX7+8Ub5g/UIIF4RpImz/IrBvSICGeP6TrmGETfaA/4AAkWpbpoT8gFq9SGVajP2ArOkucwqQ/nEDFQx8vpj/cVVA8opunPxxr2zQlCKk/WIBmLah0qj+YlfElK+GrP9iqfB6uTa0/FMAHFzG6rj+qaskHWhOwP0j1DoSbybA/6H9UAN1/sT+ICpp8HjayPyaV3/hf7LI/xh8ldaGisz9mqmrx4li0PwQ1sG0kD7U/pL/16WXFtT9ESjtmp3u2P+LUgOLoMbc/gl/GXirotz8i6gvba564P8B0UVetVLk/YP+W0+4Kuj/+idxPMMG6P54UIsxxd7s/Pp9nSLMtvD/cKa3E9OO8P3y08kA2mr0/HD84vXdQvj+8yX05uQa/P1hUw7X6vL8/fG8EGZ45wD/MNCfXvpTAPxz6SZXf78A/bL9sUwBLwT+8hI8RIabBPwpKss9BAcI/Wg/VjWJcwj8=\",\"dtype\":\"float64\",\"order\":\"little\",\"shape\":[100]},\"right\":{\"__ndarray__\":\"Inl6OyaGwL/Ts1d9BSvAvwbdaX7Jn7+/Z1IkAojpvr/Ix96FRjO+vyg9mQkFfb2/ibJTjcPGvL/qJw4RghC8v0qdyJRAWru/qxKDGP+jur8MiD2cve25v2z99x98N7m/znKyozqBuL8u6Gwn+cq3v49dJ6u3FLe/8NLhLnZetr9QSJyyNKi1v7G9Vjbz8bS/EjMRurE7tL9yqMs9cIWzv9MdhsEuz7K/NJNARe0Ysr+VCPvIq2Kxv/V9tUxqrLC/rObfoFHsr79u0VSozn+uvy68ya9LE62/8KY+t8imq7+ykbO+RTqqv3R8KMbCzai/NGedzT9hp7/2URLVvPSlv7g8h9w5iKS/eCf847Ybo786EnHrM6+hv/z85fKwQqC/fM+19Fusnb/8pJ8DVtOav4B6iRJQ+pe/BFBzIUohlb+EJV0wREiSvxD2jX583o6/GKFhnHAsib8gTDW6ZHqDv0DuEbCxkHu/YES565kscL+AaYKdCCJTv4A+4HNWblo/gLlQYa3/cT+AY6klxWN9P8AGAXXuY4Q/sFstV/oVij+wsFk5BsiPP9gCww0JvZI/UC3Z/g6WlT/QV+/vFG+YP1CCBeEaSJs/yKwb0iAhnj+k65hhE32gP+AAJFqW6aE/IBavUhlWoz9gKzpLnMKkP5xAxUMfL6Y/3FVQPKKbpz8ca9s0JQipP1iAZi2odKo/mJXxJSvhqz/Yqnwerk2tPxTABxcxuq4/qmrJB1oTsD9I9Q6Em8mwP+h/VADdf7E/iAqafB42sj8mld/4X+yyP8YfJXWhorM/Zqpq8eJYtD8ENbBtJA+1P6S/9ellxbU/REo7Zqd7tj/i1IDi6DG3P4Jfxl4q6Lc/IuoL22ueuD/AdFFXrVS5P2D/ltPuCro//oncTzDBuj+eFCLMcXe7Pz6fZ0izLbw/3CmtxPTjvD98tPJANpq9Pxw/OL13UL4/vMl9ObkGvz9YVMO1+ry/P3xvBBmeOcA/zDQn176UwD8c+kmV3+/AP2y/bFMAS8E/vISPESGmwT8KSrLPQQHCP1oP1Y1iXMI/qtT3S4O3wj8=\",\"dtype\":\"float64\",\"order\":\"little\",\"shape\":[100]},\"top\":[0,0,0,0,0,0,0,0,0,0,0,0,0,0,0,0,1,0,0,0,1,0,0,1,0,1,3,0,0,2,0,0,1,0,5,3,1,3,5,12,17,29,44,60,91,117,160,145,153,118,77,80,41,30,19,12,9,6,1,2,3,1,1,1,0,1,0,0,0,0,0,0,0,0,0,0,0,0,0,0,0,0,0,0,0,0,0,0,0,0,0,0,0,0,0,0,0,0,0,0]},\"selected\":{\"id\":\"1038\"},\"selection_policy\":{\"id\":\"1211\"}},\"id\":\"1037\",\"type\":\"ColumnDataSource\"},{\"attributes\":{},\"id\":\"1201\",\"type\":\"AllLabels\"},{\"attributes\":{},\"id\":\"1101\",\"type\":\"AllLabels\"},{\"attributes\":{\"text\":\"Default: CISCO\",\"text_color\":\"black\",\"text_font_size\":\"12pt\"},\"id\":\"1158\",\"type\":\"Title\"},{\"attributes\":{\"axis\":{\"id\":\"1170\"},\"dimension\":1,\"ticker\":{\"id\":\"1171\"}},\"id\":\"1173\",\"type\":\"Grid\"},{\"attributes\":{},\"id\":\"1114\",\"type\":\"LinearScale\"},{\"attributes\":{},\"id\":\"1167\",\"type\":\"BasicTicker\"},{\"attributes\":{\"end\":176.0,\"reset_end\":176.0,\"reset_start\":0.0,\"tags\":[[[\"AGG_count\",\"Count\",null]]]},\"id\":\"1005\",\"type\":\"Range1d\"},{\"attributes\":{\"axis\":{\"id\":\"1166\"},\"ticker\":{\"id\":\"1167\"}},\"id\":\"1169\",\"type\":\"Grid\"},{\"attributes\":{\"below\":[{\"id\":\"1016\"}],\"center\":[{\"id\":\"1019\"},{\"id\":\"1023\"}],\"height\":300,\"left\":[{\"id\":\"1020\"}],\"margin\":null,\"min_border_bottom\":10,\"min_border_left\":10,\"min_border_right\":10,\"min_border_top\":10,\"renderers\":[{\"id\":\"1043\"}],\"sizing_mode\":\"fixed\",\"title\":{\"id\":\"1008\"},\"toolbar\":{\"id\":\"1030\"},\"toolbar_location\":null,\"width\":400,\"x_range\":{\"id\":\"1004\"},\"x_scale\":{\"id\":\"1012\"},\"y_range\":{\"id\":\"1005\"},\"y_scale\":{\"id\":\"1014\"}},\"id\":\"1007\",\"subtype\":\"Figure\",\"type\":\"Plot\"},{\"attributes\":{},\"id\":\"1171\",\"type\":\"BasicTicker\"},{\"attributes\":{},\"id\":\"1038\",\"type\":\"Selection\"},{\"attributes\":{\"axis_label\":\"\",\"formatter\":{\"id\":\"1200\"},\"major_label_policy\":{\"id\":\"1201\"},\"ticker\":{\"id\":\"1171\"}},\"id\":\"1170\",\"type\":\"LinearAxis\"},{\"attributes\":{},\"id\":\"1014\",\"type\":\"LinearScale\"},{\"attributes\":{\"end\":0.1670828899307004,\"reset_end\":0.1670828899307004,\"reset_start\":-0.15273243730557537,\"start\":-0.15273243730557537,\"tags\":[[[\"AAPL\",\"AAPL\",null]]]},\"id\":\"1104\",\"type\":\"Range1d\"},{\"attributes\":{},\"id\":\"1017\",\"type\":\"BasicTicker\"},{\"attributes\":{},\"id\":\"1117\",\"type\":\"BasicTicker\"},{\"attributes\":{\"axis\":{\"id\":\"1020\"},\"dimension\":1,\"ticker\":{\"id\":\"1021\"}},\"id\":\"1023\",\"type\":\"Grid\"},{\"attributes\":{\"axis_label\":\"AGG\",\"formatter\":{\"id\":\"1047\"},\"major_label_policy\":{\"id\":\"1048\"},\"ticker\":{\"id\":\"1017\"}},\"id\":\"1016\",\"type\":\"LinearAxis\"},{\"attributes\":{\"source\":{\"id\":\"1187\"}},\"id\":\"1194\",\"type\":\"CDSView\"},{\"attributes\":{},\"id\":\"1174\",\"type\":\"SaveTool\"},{\"attributes\":{\"text\":\"Default: AGG\",\"text_color\":\"black\",\"text_font_size\":\"12pt\"},\"id\":\"1008\",\"type\":\"Title\"},{\"attributes\":{\"axis\":{\"id\":\"1120\"},\"dimension\":1,\"ticker\":{\"id\":\"1121\"}},\"id\":\"1123\",\"type\":\"Grid\"},{\"attributes\":{},\"id\":\"1175\",\"type\":\"PanTool\"},{\"attributes\":{\"end\":132.0,\"reset_end\":132.0,\"reset_start\":0.0,\"tags\":[[[\"AAPL_count\",\"Count\",null]]]},\"id\":\"1105\",\"type\":\"Range1d\"},{\"attributes\":{},\"id\":\"1121\",\"type\":\"BasicTicker\"},{\"attributes\":{},\"id\":\"1176\",\"type\":\"WheelZoomTool\"},{\"attributes\":{\"axis\":{\"id\":\"1016\"},\"ticker\":{\"id\":\"1017\"}},\"id\":\"1019\",\"type\":\"Grid\"},{\"attributes\":{\"bottom\":{\"value\":0},\"fill_alpha\":{\"value\":0.1},\"fill_color\":{\"value\":\"#30a2da\"},\"left\":{\"field\":\"left\"},\"line_alpha\":{\"value\":0.1},\"right\":{\"field\":\"right\"},\"top\":{\"field\":\"top\"}},\"id\":\"1191\",\"type\":\"Quad\"},{\"attributes\":{\"overlay\":{\"id\":\"1179\"}},\"id\":\"1177\",\"type\":\"BoxZoomTool\"},{\"attributes\":{\"axis_label\":\"\",\"formatter\":{\"id\":\"1150\"},\"major_label_policy\":{\"id\":\"1151\"},\"ticker\":{\"id\":\"1121\"}},\"id\":\"1120\",\"type\":\"LinearAxis\"},{\"attributes\":{},\"id\":\"1021\",\"type\":\"BasicTicker\"},{\"attributes\":{\"axis_label\":\"\",\"formatter\":{\"id\":\"1050\"},\"major_label_policy\":{\"id\":\"1051\"},\"ticker\":{\"id\":\"1021\"}},\"id\":\"1020\",\"type\":\"LinearAxis\"},{\"attributes\":{\"source\":{\"id\":\"1087\"}},\"id\":\"1094\",\"type\":\"CDSView\"},{\"attributes\":{},\"id\":\"1222\",\"type\":\"UnionRenderers\"},{\"attributes\":{},\"id\":\"1178\",\"type\":\"ResetTool\"},{\"attributes\":{},\"id\":\"1050\",\"type\":\"BasicTickFormatter\"},{\"attributes\":{\"bottom\":{\"value\":0},\"fill_color\":{\"value\":\"#30a2da\"},\"left\":{\"field\":\"left\"},\"right\":{\"field\":\"right\"},\"top\":{\"field\":\"top\"}},\"id\":\"1140\",\"type\":\"Quad\"},{\"attributes\":{},\"id\":\"1244\",\"type\":\"UnionRenderers\"},{\"attributes\":{},\"id\":\"1124\",\"type\":\"SaveTool\"},{\"attributes\":{\"bottom\":{\"value\":0},\"fill_color\":{\"value\":\"#30a2da\"},\"left\":{\"field\":\"left\"},\"right\":{\"field\":\"right\"},\"top\":{\"field\":\"top\"}},\"id\":\"1040\",\"type\":\"Quad\"},{\"attributes\":{\"children\":[{\"id\":\"1250\"},{\"id\":\"1248\"}]},\"id\":\"1251\",\"type\":\"Column\"},{\"attributes\":{},\"id\":\"1024\",\"type\":\"SaveTool\"},{\"attributes\":{},\"id\":\"1125\",\"type\":\"PanTool\"},{\"attributes\":{\"data_source\":{\"id\":\"1187\"},\"glyph\":{\"id\":\"1190\"},\"hover_glyph\":null,\"muted_glyph\":{\"id\":\"1192\"},\"nonselection_glyph\":{\"id\":\"1191\"},\"selection_glyph\":{\"id\":\"1195\"},\"view\":{\"id\":\"1194\"}},\"id\":\"1193\",\"type\":\"GlyphRenderer\"},{\"attributes\":{},\"id\":\"1025\",\"type\":\"PanTool\"},{\"attributes\":{},\"id\":\"1126\",\"type\":\"WheelZoomTool\"},{\"attributes\":{},\"id\":\"1026\",\"type\":\"WheelZoomTool\"},{\"attributes\":{\"overlay\":{\"id\":\"1129\"}},\"id\":\"1127\",\"type\":\"BoxZoomTool\"},{\"attributes\":{\"overlay\":{\"id\":\"1029\"}},\"id\":\"1027\",\"type\":\"BoxZoomTool\"},{\"attributes\":{\"bottom\":{\"value\":0},\"fill_alpha\":{\"value\":0.2},\"fill_color\":{\"value\":\"#30a2da\"},\"left\":{\"field\":\"left\"},\"line_alpha\":{\"value\":0.2},\"right\":{\"field\":\"right\"},\"top\":{\"field\":\"top\"}},\"id\":\"1192\",\"type\":\"Quad\"},{\"attributes\":{},\"id\":\"1062\",\"type\":\"LinearScale\"},{\"attributes\":{},\"id\":\"1064\",\"type\":\"LinearScale\"},{\"attributes\":{\"bottom\":{\"value\":0},\"fill_alpha\":{\"value\":0.2},\"fill_color\":{\"value\":\"#30a2da\"},\"left\":{\"field\":\"left\"},\"line_alpha\":{\"value\":0.2},\"right\":{\"field\":\"right\"},\"top\":{\"field\":\"top\"}},\"id\":\"1042\",\"type\":\"Quad\"},{\"attributes\":{},\"id\":\"1128\",\"type\":\"ResetTool\"},{\"attributes\":{\"axis_label\":\"SPY\",\"formatter\":{\"id\":\"1097\"},\"major_label_policy\":{\"id\":\"1098\"},\"ticker\":{\"id\":\"1067\"}},\"id\":\"1066\",\"type\":\"LinearAxis\"},{\"attributes\":{\"active_multi\":null,\"tools\":[{\"id\":\"1156\"},{\"id\":\"1174\"},{\"id\":\"1175\"},{\"id\":\"1176\"},{\"id\":\"1177\"},{\"id\":\"1178\"}]},\"id\":\"1180\",\"type\":\"Toolbar\"},{\"attributes\":{},\"id\":\"1028\",\"type\":\"ResetTool\"},{\"attributes\":{\"data\":{\"CISCO\":{\"__ndarray__\":\"ytuLmrazwL96FmnclVjAv1aijDzq+r+/thdHwKhEv78YjQFEZ46+v3gCvMcl2L2/2Hd2S+Qhvb867TDPomu8v5pi61Jhtbu/+tel1h//ur9cTWBa3ki6v7zCGt6ckrm/HTjVYVvcuL9+rY/lGSa4v94iSmnYb7e/QJgE7Za5tr+gDb9wVQO2vwCDefQTTbW/YvgzeNKWtL/Cbe77kOCzvyLjqH9PKrO/hFhjAw50sr/kzR2HzL2xv0VD2AqLB7G/priSjklRsL8NXJokEDavv85GDyyNya2/jzGEMwpdrL9RHPk6h/CqvxMHbkIEhKm/1PHiSYEXqL+V3FdR/qqmv1fHzFh7PqW/GLJBYPjRo7/ZnLZndWWiv5uHK2/y+KC/uuRA7d4Yn788uir82D+cv76PFAvTZpm/QmX+Gc2Nlr/EOugox7STv0YQ0jfB25C/lMt3jXYFjL+cdkuralOGv6AhH8leoYC/UJnlzaXedb/A3hkTHPVkvwBUd1k3MS0/IMlI/kKbaD+ADn1DubF3P0Dc6oPoioE/ODEXZvQ8hz8whkNIAO+MP5jtNxWGUJE/FBhOBowplD+QQmT3kQKXPxBteuiX25k/jJeQ2Z20nD8IwqbKo42fP0J23t1UM6E/gItp1tefoj/AoPTOWgykP/61f8fdeKU/PMsKwGDlpj984JW441GoP7r1ILFmvqk/+Aqsqekqqz84IDeibJesP3Y1wprvA64/tEpNk3Jwrz/5L+zFem6wP5i6MUK8JLE/OEV3vv3asT/Xz7w6P5GyP3ZaAreAR7M/FuVHM8L9sz+1b42vA7S0P1T60itFarU/9IQYqIYgtj+TD14kyNa2PzKao6AJjbc/0iTpHEtDuD9xry6ZjPm4PxA6dBXOr7k/r8S5kQ9muj9OT/8NURy7P+7ZRIqS0rs/jWSKBtSIvD8s78+CFT+9P8x5Ff9W9b0/bARbe5irvj8Kj6D32WG/P9QM87kNDMA/JNIVeC5nwD90lzg2T8LAP8RcW/RvHcE/FCJ+spB4wT9j56BwsdPBP7Kswy7SLsI/AnLm7PKJwj8=\",\"dtype\":\"float64\",\"order\":\"little\",\"shape\":[100]},\"CISCO_count\":[0,0,0,0,0,1,0,1,0,0,0,0,0,0,0,0,0,0,0,0,1,0,0,0,0,2,0,0,1,2,0,1,1,2,2,2,4,8,9,15,24,31,45,63,80,119,124,157,125,106,88,76,49,32,32,23,8,4,4,2,1,2,4,0,1,0,0,0,1,0,0,0,0,0,0,0,0,0,0,1,2,0,0,0,0,0,0,0,0,0,1,0,0,0,0,0,0,0,0,0],\"left\":{\"__ndarray__\":\"cj6d+UbhwL8ieXo7JobAv9OzV30FK8C/Bt1pfsmfv79nUiQCiOm+v8jH3oVGM76/KD2ZCQV9vb+JslONw8a8v+onDhGCELy/Sp3IlEBau7+rEoMY/6O6vwyIPZy97bm/bP33H3w3ub/OcrKjOoG4vy7obCf5yre/j10nq7cUt7/w0uEudl62v1BInLI0qLW/sb1WNvPxtL8SMxG6sTu0v3Koyz1whbO/0x2GwS7Psr80k0BF7Riyv5UI+8irYrG/9X21TGqssL+s5t+gUeyvv27RVKjOf66/LrzJr0sTrb/wpj63yKarv7KRs75FOqq/dHwoxsLNqL80Z53NP2Gnv/ZREtW89KW/uDyH3DmIpL94J/zjthujvzoSceszr6G//Pzl8rBCoL98z7X0W6ydv/yknwNW05q/gHqJElD6l78EUHMhSiGVv4QlXTBESJK/EPaNfnzejr8YoWGccCyJvyBMNbpkeoO/QO4RsLGQe79gRLnrmSxwv4Bpgp0IIlO/gD7gc1ZuWj+AuVBhrf9xP4BjqSXFY30/wAYBde5jhD+wWy1X+hWKP7CwWTkGyI8/2ALDDQm9kj9QLdn+DpaVP9BX7+8Ub5g/UIIF4RpImz/IrBvSICGeP6TrmGETfaA/4AAkWpbpoT8gFq9SGVajP2ArOkucwqQ/nEDFQx8vpj/cVVA8opunPxxr2zQlCKk/WIBmLah0qj+YlfElK+GrP9iqfB6uTa0/FMAHFzG6rj+qaskHWhOwP0j1DoSbybA/6H9UAN1/sT+ICpp8HjayPyaV3/hf7LI/xh8ldaGisz9mqmrx4li0PwQ1sG0kD7U/pL/16WXFtT9ESjtmp3u2P+LUgOLoMbc/gl/GXirotz8i6gvba564P8B0UVetVLk/YP+W0+4Kuj/+idxPMMG6P54UIsxxd7s/Pp9nSLMtvD/cKa3E9OO8P3y08kA2mr0/HD84vXdQvj+8yX05uQa/P1hUw7X6vL8/fG8EGZ45wD/MNCfXvpTAPxz6SZXf78A/bL9sUwBLwT+8hI8RIabBPwpKss9BAcI/Wg/VjWJcwj8=\",\"dtype\":\"float64\",\"order\":\"little\",\"shape\":[100]},\"right\":{\"__ndarray__\":\"Inl6OyaGwL/Ts1d9BSvAvwbdaX7Jn7+/Z1IkAojpvr/Ix96FRjO+vyg9mQkFfb2/ibJTjcPGvL/qJw4RghC8v0qdyJRAWru/qxKDGP+jur8MiD2cve25v2z99x98N7m/znKyozqBuL8u6Gwn+cq3v49dJ6u3FLe/8NLhLnZetr9QSJyyNKi1v7G9Vjbz8bS/EjMRurE7tL9yqMs9cIWzv9MdhsEuz7K/NJNARe0Ysr+VCPvIq2Kxv/V9tUxqrLC/rObfoFHsr79u0VSozn+uvy68ya9LE62/8KY+t8imq7+ykbO+RTqqv3R8KMbCzai/NGedzT9hp7/2URLVvPSlv7g8h9w5iKS/eCf847Ybo786EnHrM6+hv/z85fKwQqC/fM+19Fusnb/8pJ8DVtOav4B6iRJQ+pe/BFBzIUohlb+EJV0wREiSvxD2jX583o6/GKFhnHAsib8gTDW6ZHqDv0DuEbCxkHu/YES565kscL+AaYKdCCJTv4A+4HNWblo/gLlQYa3/cT+AY6klxWN9P8AGAXXuY4Q/sFstV/oVij+wsFk5BsiPP9gCww0JvZI/UC3Z/g6WlT/QV+/vFG+YP1CCBeEaSJs/yKwb0iAhnj+k65hhE32gP+AAJFqW6aE/IBavUhlWoz9gKzpLnMKkP5xAxUMfL6Y/3FVQPKKbpz8ca9s0JQipP1iAZi2odKo/mJXxJSvhqz/Yqnwerk2tPxTABxcxuq4/qmrJB1oTsD9I9Q6Em8mwP+h/VADdf7E/iAqafB42sj8mld/4X+yyP8YfJXWhorM/Zqpq8eJYtD8ENbBtJA+1P6S/9ellxbU/REo7Zqd7tj/i1IDi6DG3P4Jfxl4q6Lc/IuoL22ueuD/AdFFXrVS5P2D/ltPuCro//oncTzDBuj+eFCLMcXe7Pz6fZ0izLbw/3CmtxPTjvD98tPJANpq9Pxw/OL13UL4/vMl9ObkGvz9YVMO1+ry/P3xvBBmeOcA/zDQn176UwD8c+kmV3+/AP2y/bFMAS8E/vISPESGmwT8KSrLPQQHCP1oP1Y1iXMI/qtT3S4O3wj8=\",\"dtype\":\"float64\",\"order\":\"little\",\"shape\":[100]},\"top\":[0,0,0,0,0,1,0,1,0,0,0,0,0,0,0,0,0,0,0,0,1,0,0,0,0,2,0,0,1,2,0,1,1,2,2,2,4,8,9,15,24,31,45,63,80,119,124,157,125,106,88,76,49,32,32,23,8,4,4,2,1,2,4,0,1,0,0,0,1,0,0,0,0,0,0,0,0,0,0,1,2,0,0,0,0,0,0,0,0,0,1,0,0,0,0,0,0,0,0,0]},\"selected\":{\"id\":\"1188\"},\"selection_policy\":{\"id\":\"1244\"}},\"id\":\"1187\",\"type\":\"ColumnDataSource\"},{\"attributes\":{},\"id\":\"1233\",\"type\":\"UnionRenderers\"},{\"attributes\":{},\"id\":\"1088\",\"type\":\"Selection\"},{\"attributes\":{\"axis\":{\"id\":\"1070\"},\"dimension\":1,\"ticker\":{\"id\":\"1071\"}},\"id\":\"1073\",\"type\":\"Grid\"},{\"attributes\":{\"bottom_units\":\"screen\",\"fill_alpha\":0.5,\"fill_color\":\"lightgrey\",\"left_units\":\"screen\",\"level\":\"overlay\",\"line_alpha\":1.0,\"line_color\":\"black\",\"line_dash\":[4,4],\"line_width\":2,\"right_units\":\"screen\",\"syncable\":false,\"top_units\":\"screen\"},\"id\":\"1179\",\"type\":\"BoxAnnotation\"},{\"attributes\":{},\"id\":\"1067\",\"type\":\"BasicTicker\"},{\"attributes\":{\"axis\":{\"id\":\"1066\"},\"ticker\":{\"id\":\"1067\"}},\"id\":\"1069\",\"type\":\"Grid\"},{\"attributes\":{},\"id\":\"1071\",\"type\":\"BasicTicker\"},{\"attributes\":{},\"id\":\"1188\",\"type\":\"Selection\"},{\"attributes\":{\"axis_label\":\"\",\"formatter\":{\"id\":\"1100\"},\"major_label_policy\":{\"id\":\"1101\"},\"ticker\":{\"id\":\"1071\"}},\"id\":\"1070\",\"type\":\"LinearAxis\"},{\"attributes\":{\"toolbars\":[{\"id\":\"1030\"},{\"id\":\"1080\"},{\"id\":\"1130\"},{\"id\":\"1180\"}],\"tools\":[{\"id\":\"1006\"},{\"id\":\"1024\"},{\"id\":\"1025\"},{\"id\":\"1026\"},{\"id\":\"1027\"},{\"id\":\"1028\"},{\"id\":\"1056\"},{\"id\":\"1074\"},{\"id\":\"1075\"},{\"id\":\"1076\"},{\"id\":\"1077\"},{\"id\":\"1078\"},{\"id\":\"1106\"},{\"id\":\"1124\"},{\"id\":\"1125\"},{\"id\":\"1126\"},{\"id\":\"1127\"},{\"id\":\"1128\"},{\"id\":\"1156\"},{\"id\":\"1174\"},{\"id\":\"1175\"},{\"id\":\"1176\"},{\"id\":\"1177\"},{\"id\":\"1178\"}]},\"id\":\"1249\",\"type\":\"ProxyToolbar\"},{\"attributes\":{\"bottom_units\":\"screen\",\"fill_alpha\":0.5,\"fill_color\":\"lightgrey\",\"left_units\":\"screen\",\"level\":\"overlay\",\"line_alpha\":1.0,\"line_color\":\"black\",\"line_dash\":[4,4],\"line_width\":2,\"right_units\":\"screen\",\"syncable\":false,\"top_units\":\"screen\"},\"id\":\"1129\",\"type\":\"BoxAnnotation\"},{\"attributes\":{\"bottom_units\":\"screen\",\"fill_alpha\":0.5,\"fill_color\":\"lightgrey\",\"left_units\":\"screen\",\"level\":\"overlay\",\"line_alpha\":1.0,\"line_color\":\"black\",\"line_dash\":[4,4],\"line_width\":2,\"right_units\":\"screen\",\"syncable\":false,\"top_units\":\"screen\"},\"id\":\"1029\",\"type\":\"BoxAnnotation\"},{\"attributes\":{\"active_multi\":null,\"tools\":[{\"id\":\"1106\"},{\"id\":\"1124\"},{\"id\":\"1125\"},{\"id\":\"1126\"},{\"id\":\"1127\"},{\"id\":\"1128\"}]},\"id\":\"1130\",\"type\":\"Toolbar\"},{\"attributes\":{\"active_multi\":null,\"tools\":[{\"id\":\"1006\"},{\"id\":\"1024\"},{\"id\":\"1025\"},{\"id\":\"1026\"},{\"id\":\"1027\"},{\"id\":\"1028\"}]},\"id\":\"1030\",\"type\":\"Toolbar\"},{\"attributes\":{\"active_multi\":null,\"tools\":[{\"id\":\"1056\"},{\"id\":\"1074\"},{\"id\":\"1075\"},{\"id\":\"1076\"},{\"id\":\"1077\"},{\"id\":\"1078\"}]},\"id\":\"1080\",\"type\":\"Toolbar\"},{\"attributes\":{},\"id\":\"1074\",\"type\":\"SaveTool\"},{\"attributes\":{\"bottom\":{\"value\":0},\"fill_alpha\":{\"value\":0.2},\"fill_color\":{\"value\":\"#30a2da\"},\"left\":{\"field\":\"left\"},\"line_alpha\":{\"value\":0.2},\"right\":{\"field\":\"right\"},\"top\":{\"field\":\"top\"}},\"id\":\"1142\",\"type\":\"Quad\"},{\"attributes\":{},\"id\":\"1075\",\"type\":\"PanTool\"},{\"attributes\":{\"bottom\":{\"value\":0},\"fill_alpha\":{\"value\":0.1},\"fill_color\":{\"value\":\"#30a2da\"},\"left\":{\"field\":\"left\"},\"line_alpha\":{\"value\":0.1},\"right\":{\"field\":\"right\"},\"top\":{\"field\":\"top\"}},\"id\":\"1041\",\"type\":\"Quad\"},{\"attributes\":{\"bottom\":{\"value\":0},\"fill_alpha\":{\"value\":0.1},\"fill_color\":{\"value\":\"#30a2da\"},\"left\":{\"field\":\"left\"},\"line_alpha\":{\"value\":0.1},\"right\":{\"field\":\"right\"},\"top\":{\"field\":\"top\"}},\"id\":\"1141\",\"type\":\"Quad\"},{\"attributes\":{},\"id\":\"1076\",\"type\":\"WheelZoomTool\"},{\"attributes\":{\"overlay\":{\"id\":\"1079\"}},\"id\":\"1077\",\"type\":\"BoxZoomTool\"},{\"attributes\":{},\"id\":\"1047\",\"type\":\"BasicTickFormatter\"},{\"attributes\":{},\"id\":\"1147\",\"type\":\"BasicTickFormatter\"},{\"attributes\":{\"data_source\":{\"id\":\"1037\"},\"glyph\":{\"id\":\"1040\"},\"hover_glyph\":null,\"muted_glyph\":{\"id\":\"1042\"},\"nonselection_glyph\":{\"id\":\"1041\"},\"selection_glyph\":{\"id\":\"1045\"},\"view\":{\"id\":\"1044\"}},\"id\":\"1043\",\"type\":\"GlyphRenderer\"},{\"attributes\":{\"data_source\":{\"id\":\"1137\"},\"glyph\":{\"id\":\"1140\"},\"hover_glyph\":null,\"muted_glyph\":{\"id\":\"1142\"},\"nonselection_glyph\":{\"id\":\"1141\"},\"selection_glyph\":{\"id\":\"1145\"},\"view\":{\"id\":\"1144\"}},\"id\":\"1143\",\"type\":\"GlyphRenderer\"},{\"attributes\":{\"bottom\":{\"value\":0},\"fill_alpha\":{\"value\":0.2},\"fill_color\":{\"value\":\"#30a2da\"},\"left\":{\"field\":\"left\"},\"line_alpha\":{\"value\":0.2},\"right\":{\"field\":\"right\"},\"top\":{\"field\":\"top\"}},\"id\":\"1092\",\"type\":\"Quad\"},{\"attributes\":{\"source\":{\"id\":\"1037\"}},\"id\":\"1044\",\"type\":\"CDSView\"},{\"attributes\":{\"source\":{\"id\":\"1137\"}},\"id\":\"1144\",\"type\":\"CDSView\"},{\"attributes\":{},\"id\":\"1012\",\"type\":\"LinearScale\"},{\"attributes\":{\"end\":0.1670828899307004,\"reset_end\":0.1670828899307004,\"reset_start\":-0.15273243730557537,\"start\":-0.15273243730557537,\"tags\":[[[\"CISCO\",\"CISCO\",null]]]},\"id\":\"1154\",\"type\":\"Range1d\"},{\"attributes\":{},\"id\":\"1078\",\"type\":\"ResetTool\"},{\"attributes\":{\"margin\":[5,5,5,5],\"name\":\"HSpacer01707\",\"sizing_mode\":\"stretch_width\"},\"id\":\"1003\",\"type\":\"Spacer\"},{\"attributes\":{\"bottom\":{\"value\":0},\"fill_alpha\":{\"value\":1.0},\"fill_color\":{\"value\":\"#30a2da\"},\"hatch_alpha\":{\"value\":1.0},\"hatch_color\":{\"value\":\"black\"},\"hatch_scale\":{\"value\":12.0},\"hatch_weight\":{\"value\":1.0},\"left\":{\"field\":\"left\"},\"line_alpha\":{\"value\":1.0},\"line_cap\":{\"value\":\"butt\"},\"line_color\":{\"value\":\"black\"},\"line_dash\":{\"value\":[]},\"line_dash_offset\":{\"value\":0},\"line_join\":{\"value\":\"bevel\"},\"line_width\":{\"value\":1},\"right\":{\"field\":\"right\"},\"top\":{\"field\":\"top\"}},\"id\":\"1145\",\"type\":\"Quad\"},{\"attributes\":{\"children\":[{\"id\":\"1003\"},{\"id\":\"1251\"},{\"id\":\"1612\"}],\"margin\":[0,0,0,0],\"name\":\"Row01703\",\"tags\":[\"embedded\"]},\"id\":\"1002\",\"type\":\"Row\"},{\"attributes\":{},\"id\":\"1048\",\"type\":\"AllLabels\"},{\"attributes\":{},\"id\":\"1150\",\"type\":\"BasicTickFormatter\"},{\"attributes\":{\"text\":\"Default: AAPL\",\"text_color\":\"black\",\"text_font_size\":\"12pt\"},\"id\":\"1108\",\"type\":\"Title\"},{\"attributes\":{\"children\":[[{\"id\":\"1007\"},0,0],[{\"id\":\"1057\"},0,1],[{\"id\":\"1107\"},1,0],[{\"id\":\"1157\"},1,1]]},\"id\":\"1248\",\"type\":\"GridBox\"},{\"attributes\":{\"data\":{\"SPY\":{\"__ndarray__\":\"ytuLmrazwL96FmnclVjAv1aijDzq+r+/thdHwKhEv78YjQFEZ46+v3gCvMcl2L2/2Hd2S+Qhvb867TDPomu8v5pi61Jhtbu/+tel1h//ur9cTWBa3ki6v7zCGt6ckrm/HTjVYVvcuL9+rY/lGSa4v94iSmnYb7e/QJgE7Za5tr+gDb9wVQO2vwCDefQTTbW/YvgzeNKWtL/Cbe77kOCzvyLjqH9PKrO/hFhjAw50sr/kzR2HzL2xv0VD2AqLB7G/priSjklRsL8NXJokEDavv85GDyyNya2/jzGEMwpdrL9RHPk6h/CqvxMHbkIEhKm/1PHiSYEXqL+V3FdR/qqmv1fHzFh7PqW/GLJBYPjRo7/ZnLZndWWiv5uHK2/y+KC/uuRA7d4Yn788uir82D+cv76PFAvTZpm/QmX+Gc2Nlr/EOugox7STv0YQ0jfB25C/lMt3jXYFjL+cdkuralOGv6AhH8leoYC/UJnlzaXedb/A3hkTHPVkvwBUd1k3MS0/IMlI/kKbaD+ADn1DubF3P0Dc6oPoioE/ODEXZvQ8hz8whkNIAO+MP5jtNxWGUJE/FBhOBowplD+QQmT3kQKXPxBteuiX25k/jJeQ2Z20nD8IwqbKo42fP0J23t1UM6E/gItp1tefoj/AoPTOWgykP/61f8fdeKU/PMsKwGDlpj984JW441GoP7r1ILFmvqk/+Aqsqekqqz84IDeibJesP3Y1wprvA64/tEpNk3Jwrz/5L+zFem6wP5i6MUK8JLE/OEV3vv3asT/Xz7w6P5GyP3ZaAreAR7M/FuVHM8L9sz+1b42vA7S0P1T60itFarU/9IQYqIYgtj+TD14kyNa2PzKao6AJjbc/0iTpHEtDuD9xry6ZjPm4PxA6dBXOr7k/r8S5kQ9muj9OT/8NURy7P+7ZRIqS0rs/jWSKBtSIvD8s78+CFT+9P8x5Ff9W9b0/bARbe5irvj8Kj6D32WG/P9QM87kNDMA/JNIVeC5nwD90lzg2T8LAP8RcW/RvHcE/FCJ+spB4wT9j56BwsdPBP7Kswy7SLsI/AnLm7PKJwj8=\",\"dtype\":\"float64\",\"order\":\"little\",\"shape\":[100]},\"SPY_count\":[0,0,0,0,0,1,0,0,0,0,2,0,0,0,0,0,1,0,2,0,1,0,0,1,1,1,2,0,1,0,0,1,3,8,7,7,7,11,18,30,28,41,41,59,92,103,97,102,95,89,64,57,68,51,46,33,19,19,9,5,9,4,3,1,3,0,2,1,0,1,0,1,0,1,1,0,0,0,1,1,1,1,0,0,0,0,0,0,0,0,0,0,0,1,1,0,0,0,0,1],\"left\":{\"__ndarray__\":\"cj6d+UbhwL8ieXo7JobAv9OzV30FK8C/Bt1pfsmfv79nUiQCiOm+v8jH3oVGM76/KD2ZCQV9vb+JslONw8a8v+onDhGCELy/Sp3IlEBau7+rEoMY/6O6vwyIPZy97bm/bP33H3w3ub/OcrKjOoG4vy7obCf5yre/j10nq7cUt7/w0uEudl62v1BInLI0qLW/sb1WNvPxtL8SMxG6sTu0v3Koyz1whbO/0x2GwS7Psr80k0BF7Riyv5UI+8irYrG/9X21TGqssL+s5t+gUeyvv27RVKjOf66/LrzJr0sTrb/wpj63yKarv7KRs75FOqq/dHwoxsLNqL80Z53NP2Gnv/ZREtW89KW/uDyH3DmIpL94J/zjthujvzoSceszr6G//Pzl8rBCoL98z7X0W6ydv/yknwNW05q/gHqJElD6l78EUHMhSiGVv4QlXTBESJK/EPaNfnzejr8YoWGccCyJvyBMNbpkeoO/QO4RsLGQe79gRLnrmSxwv4Bpgp0IIlO/gD7gc1ZuWj+AuVBhrf9xP4BjqSXFY30/wAYBde5jhD+wWy1X+hWKP7CwWTkGyI8/2ALDDQm9kj9QLdn+DpaVP9BX7+8Ub5g/UIIF4RpImz/IrBvSICGeP6TrmGETfaA/4AAkWpbpoT8gFq9SGVajP2ArOkucwqQ/nEDFQx8vpj/cVVA8opunPxxr2zQlCKk/WIBmLah0qj+YlfElK+GrP9iqfB6uTa0/FMAHFzG6rj+qaskHWhOwP0j1DoSbybA/6H9UAN1/sT+ICpp8HjayPyaV3/hf7LI/xh8ldaGisz9mqmrx4li0PwQ1sG0kD7U/pL/16WXFtT9ESjtmp3u2P+LUgOLoMbc/gl/GXirotz8i6gvba564P8B0UVetVLk/YP+W0+4Kuj/+idxPMMG6P54UIsxxd7s/Pp9nSLMtvD/cKa3E9OO8P3y08kA2mr0/HD84vXdQvj+8yX05uQa/P1hUw7X6vL8/fG8EGZ45wD/MNCfXvpTAPxz6SZXf78A/bL9sUwBLwT+8hI8RIabBPwpKss9BAcI/Wg/VjWJcwj8=\",\"dtype\":\"float64\",\"order\":\"little\",\"shape\":[100]},\"right\":{\"__ndarray__\":\"Inl6OyaGwL/Ts1d9BSvAvwbdaX7Jn7+/Z1IkAojpvr/Ix96FRjO+vyg9mQkFfb2/ibJTjcPGvL/qJw4RghC8v0qdyJRAWru/qxKDGP+jur8MiD2cve25v2z99x98N7m/znKyozqBuL8u6Gwn+cq3v49dJ6u3FLe/8NLhLnZetr9QSJyyNKi1v7G9Vjbz8bS/EjMRurE7tL9yqMs9cIWzv9MdhsEuz7K/NJNARe0Ysr+VCPvIq2Kxv/V9tUxqrLC/rObfoFHsr79u0VSozn+uvy68ya9LE62/8KY+t8imq7+ykbO+RTqqv3R8KMbCzai/NGedzT9hp7/2URLVvPSlv7g8h9w5iKS/eCf847Ybo786EnHrM6+hv/z85fKwQqC/fM+19Fusnb/8pJ8DVtOav4B6iRJQ+pe/BFBzIUohlb+EJV0wREiSvxD2jX583o6/GKFhnHAsib8gTDW6ZHqDv0DuEbCxkHu/YES565kscL+AaYKdCCJTv4A+4HNWblo/gLlQYa3/cT+AY6klxWN9P8AGAXXuY4Q/sFstV/oVij+wsFk5BsiPP9gCww0JvZI/UC3Z/g6WlT/QV+/vFG+YP1CCBeEaSJs/yKwb0iAhnj+k65hhE32gP+AAJFqW6aE/IBavUhlWoz9gKzpLnMKkP5xAxUMfL6Y/3FVQPKKbpz8ca9s0JQipP1iAZi2odKo/mJXxJSvhqz/Yqnwerk2tPxTABxcxuq4/qmrJB1oTsD9I9Q6Em8mwP+h/VADdf7E/iAqafB42sj8mld/4X+yyP8YfJXWhorM/Zqpq8eJYtD8ENbBtJA+1P6S/9ellxbU/REo7Zqd7tj/i1IDi6DG3P4Jfxl4q6Lc/IuoL22ueuD/AdFFXrVS5P2D/ltPuCro//oncTzDBuj+eFCLMcXe7Pz6fZ0izLbw/3CmtxPTjvD98tPJANpq9Pxw/OL13UL4/vMl9ObkGvz9YVMO1+ry/P3xvBBmeOcA/zDQn176UwD8c+kmV3+/AP2y/bFMAS8E/vISPESGmwT8KSrLPQQHCP1oP1Y1iXMI/qtT3S4O3wj8=\",\"dtype\":\"float64\",\"order\":\"little\",\"shape\":[100]},\"top\":[0,0,0,0,0,1,0,0,0,0,2,0,0,0,0,0,1,0,2,0,1,0,0,1,1,1,2,0,1,0,0,1,3,8,7,7,7,11,18,30,28,41,41,59,92,103,97,102,95,89,64,57,68,51,46,33,19,19,9,5,9,4,3,1,3,0,2,1,0,1,0,1,0,1,1,0,0,0,1,1,1,1,0,0,0,0,0,0,0,0,0,0,0,1,1,0,0,0,0,1]},\"selected\":{\"id\":\"1088\"},\"selection_policy\":{\"id\":\"1222\"}},\"id\":\"1087\",\"type\":\"ColumnDataSource\"},{\"attributes\":{},\"id\":\"1148\",\"type\":\"AllLabels\"},{\"attributes\":{\"data\":{\"AAPL\":{\"__ndarray__\":\"ytuLmrazwL96FmnclVjAv1aijDzq+r+/thdHwKhEv78YjQFEZ46+v3gCvMcl2L2/2Hd2S+Qhvb867TDPomu8v5pi61Jhtbu/+tel1h//ur9cTWBa3ki6v7zCGt6ckrm/HTjVYVvcuL9+rY/lGSa4v94iSmnYb7e/QJgE7Za5tr+gDb9wVQO2vwCDefQTTbW/YvgzeNKWtL/Cbe77kOCzvyLjqH9PKrO/hFhjAw50sr/kzR2HzL2xv0VD2AqLB7G/priSjklRsL8NXJokEDavv85GDyyNya2/jzGEMwpdrL9RHPk6h/CqvxMHbkIEhKm/1PHiSYEXqL+V3FdR/qqmv1fHzFh7PqW/GLJBYPjRo7/ZnLZndWWiv5uHK2/y+KC/uuRA7d4Yn788uir82D+cv76PFAvTZpm/QmX+Gc2Nlr/EOugox7STv0YQ0jfB25C/lMt3jXYFjL+cdkuralOGv6AhH8leoYC/UJnlzaXedb/A3hkTHPVkvwBUd1k3MS0/IMlI/kKbaD+ADn1DubF3P0Dc6oPoioE/ODEXZvQ8hz8whkNIAO+MP5jtNxWGUJE/FBhOBowplD+QQmT3kQKXPxBteuiX25k/jJeQ2Z20nD8IwqbKo42fP0J23t1UM6E/gItp1tefoj/AoPTOWgykP/61f8fdeKU/PMsKwGDlpj984JW441GoP7r1ILFmvqk/+Aqsqekqqz84IDeibJesP3Y1wprvA64/tEpNk3Jwrz/5L+zFem6wP5i6MUK8JLE/OEV3vv3asT/Xz7w6P5GyP3ZaAreAR7M/FuVHM8L9sz+1b42vA7S0P1T60itFarU/9IQYqIYgtj+TD14kyNa2PzKao6AJjbc/0iTpHEtDuD9xry6ZjPm4PxA6dBXOr7k/r8S5kQ9muj9OT/8NURy7P+7ZRIqS0rs/jWSKBtSIvD8s78+CFT+9P8x5Ff9W9b0/bARbe5irvj8Kj6D32WG/P9QM87kNDMA/JNIVeC5nwD90lzg2T8LAP8RcW/RvHcE/FCJ+spB4wT9j56BwsdPBP7Kswy7SLsI/AnLm7PKJwj8=\",\"dtype\":\"float64\",\"order\":\"little\",\"shape\":[100]},\"AAPL_count\":[1,0,0,0,0,0,0,0,0,0,0,0,0,0,0,0,0,1,0,0,0,0,1,1,2,0,0,2,1,0,1,4,1,3,5,10,7,16,24,24,22,30,45,50,86,106,114,120,99,89,81,73,74,43,30,19,17,14,10,6,5,4,2,1,2,2,1,3,0,1,1,0,1,0,0,1,0,1,0,0,0,0,0,0,0,0,0,0,0,0,0,0,0,0,0,0,0,0,0,0],\"left\":{\"__ndarray__\":\"cj6d+UbhwL8ieXo7JobAv9OzV30FK8C/Bt1pfsmfv79nUiQCiOm+v8jH3oVGM76/KD2ZCQV9vb+JslONw8a8v+onDhGCELy/Sp3IlEBau7+rEoMY/6O6vwyIPZy97bm/bP33H3w3ub/OcrKjOoG4vy7obCf5yre/j10nq7cUt7/w0uEudl62v1BInLI0qLW/sb1WNvPxtL8SMxG6sTu0v3Koyz1whbO/0x2GwS7Psr80k0BF7Riyv5UI+8irYrG/9X21TGqssL+s5t+gUeyvv27RVKjOf66/LrzJr0sTrb/wpj63yKarv7KRs75FOqq/dHwoxsLNqL80Z53NP2Gnv/ZREtW89KW/uDyH3DmIpL94J/zjthujvzoSceszr6G//Pzl8rBCoL98z7X0W6ydv/yknwNW05q/gHqJElD6l78EUHMhSiGVv4QlXTBESJK/EPaNfnzejr8YoWGccCyJvyBMNbpkeoO/QO4RsLGQe79gRLnrmSxwv4Bpgp0IIlO/gD7gc1ZuWj+AuVBhrf9xP4BjqSXFY30/wAYBde5jhD+wWy1X+hWKP7CwWTkGyI8/2ALDDQm9kj9QLdn+DpaVP9BX7+8Ub5g/UIIF4RpImz/IrBvSICGeP6TrmGETfaA/4AAkWpbpoT8gFq9SGVajP2ArOkucwqQ/nEDFQx8vpj/cVVA8opunPxxr2zQlCKk/WIBmLah0qj+YlfElK+GrP9iqfB6uTa0/FMAHFzG6rj+qaskHWhOwP0j1DoSbybA/6H9UAN1/sT+ICpp8HjayPyaV3/hf7LI/xh8ldaGisz9mqmrx4li0PwQ1sG0kD7U/pL/16WXFtT9ESjtmp3u2P+LUgOLoMbc/gl/GXirotz8i6gvba564P8B0UVetVLk/YP+W0+4Kuj/+idxPMMG6P54UIsxxd7s/Pp9nSLMtvD/cKa3E9OO8P3y08kA2mr0/HD84vXdQvj+8yX05uQa/P1hUw7X6vL8/fG8EGZ45wD/MNCfXvpTAPxz6SZXf78A/bL9sUwBLwT+8hI8RIabBPwpKss9BAcI/Wg/VjWJcwj8=\",\"dtype\":\"float64\",\"order\":\"little\",\"shape\":[100]},\"right\":{\"__ndarray__\":\"Inl6OyaGwL/Ts1d9BSvAvwbdaX7Jn7+/Z1IkAojpvr/Ix96FRjO+vyg9mQkFfb2/ibJTjcPGvL/qJw4RghC8v0qdyJRAWru/qxKDGP+jur8MiD2cve25v2z99x98N7m/znKyozqBuL8u6Gwn+cq3v49dJ6u3FLe/8NLhLnZetr9QSJyyNKi1v7G9Vjbz8bS/EjMRurE7tL9yqMs9cIWzv9MdhsEuz7K/NJNARe0Ysr+VCPvIq2Kxv/V9tUxqrLC/rObfoFHsr79u0VSozn+uvy68ya9LE62/8KY+t8imq7+ykbO+RTqqv3R8KMbCzai/NGedzT9hp7/2URLVvPSlv7g8h9w5iKS/eCf847Ybo786EnHrM6+hv/z85fKwQqC/fM+19Fusnb/8pJ8DVtOav4B6iRJQ+pe/BFBzIUohlb+EJV0wREiSvxD2jX583o6/GKFhnHAsib8gTDW6ZHqDv0DuEbCxkHu/YES565kscL+AaYKdCCJTv4A+4HNWblo/gLlQYa3/cT+AY6klxWN9P8AGAXXuY4Q/sFstV/oVij+wsFk5BsiPP9gCww0JvZI/UC3Z/g6WlT/QV+/vFG+YP1CCBeEaSJs/yKwb0iAhnj+k65hhE32gP+AAJFqW6aE/IBavUhlWoz9gKzpLnMKkP5xAxUMfL6Y/3FVQPKKbpz8ca9s0JQipP1iAZi2odKo/mJXxJSvhqz/Yqnwerk2tPxTABxcxuq4/qmrJB1oTsD9I9Q6Em8mwP+h/VADdf7E/iAqafB42sj8mld/4X+yyP8YfJXWhorM/Zqpq8eJYtD8ENbBtJA+1P6S/9ellxbU/REo7Zqd7tj/i1IDi6DG3P4Jfxl4q6Lc/IuoL22ueuD/AdFFXrVS5P2D/ltPuCro//oncTzDBuj+eFCLMcXe7Pz6fZ0izLbw/3CmtxPTjvD98tPJANpq9Pxw/OL13UL4/vMl9ObkGvz9YVMO1+ry/P3xvBBmeOcA/zDQn176UwD8c+kmV3+/AP2y/bFMAS8E/vISPESGmwT8KSrLPQQHCP1oP1Y1iXMI/qtT3S4O3wj8=\",\"dtype\":\"float64\",\"order\":\"little\",\"shape\":[100]},\"top\":[1,0,0,0,0,0,0,0,0,0,0,0,0,0,0,0,0,1,0,0,0,0,1,1,2,0,0,2,1,0,1,4,1,3,5,10,7,16,24,24,22,30,45,50,86,106,114,120,99,89,81,73,74,43,30,19,17,14,10,6,5,4,2,1,2,2,1,3,0,1,1,0,1,0,0,1,0,1,0,0,0,0,0,0,0,0,0,0,0,0,0,0,0,0,0,0,0,0,0,0]},\"selected\":{\"id\":\"1138\"},\"selection_policy\":{\"id\":\"1233\"}},\"id\":\"1137\",\"type\":\"ColumnDataSource\"},{\"attributes\":{},\"id\":\"1138\",\"type\":\"Selection\"},{\"attributes\":{\"below\":[{\"id\":\"1116\"}],\"center\":[{\"id\":\"1119\"},{\"id\":\"1123\"}],\"height\":300,\"left\":[{\"id\":\"1120\"}],\"margin\":null,\"min_border_bottom\":10,\"min_border_left\":10,\"min_border_right\":10,\"min_border_top\":10,\"renderers\":[{\"id\":\"1143\"}],\"sizing_mode\":\"fixed\",\"title\":{\"id\":\"1108\"},\"toolbar\":{\"id\":\"1130\"},\"toolbar_location\":null,\"width\":400,\"x_range\":{\"id\":\"1104\"},\"x_scale\":{\"id\":\"1112\"},\"y_range\":{\"id\":\"1105\"},\"y_scale\":{\"id\":\"1114\"}},\"id\":\"1107\",\"subtype\":\"Figure\",\"type\":\"Plot\"},{\"attributes\":{\"callback\":null,\"renderers\":[{\"id\":\"1143\"}],\"tags\":[\"hv_created\"],\"tooltips\":[[\"AAPL\",\"@{AAPL}\"],[\"Count\",\"@{AAPL_count}\"]]},\"id\":\"1106\",\"type\":\"HoverTool\"},{\"attributes\":{\"end\":0.1670828899307004,\"reset_end\":0.1670828899307004,\"reset_start\":-0.15273243730557537,\"start\":-0.15273243730557537,\"tags\":[[[\"SPY\",\"SPY\",null]]]},\"id\":\"1054\",\"type\":\"Range1d\"},{\"attributes\":{\"bottom_units\":\"screen\",\"fill_alpha\":0.5,\"fill_color\":\"lightgrey\",\"left_units\":\"screen\",\"level\":\"overlay\",\"line_alpha\":1.0,\"line_color\":\"black\",\"line_dash\":[4,4],\"line_width\":2,\"right_units\":\"screen\",\"syncable\":false,\"top_units\":\"screen\"},\"id\":\"1079\",\"type\":\"BoxAnnotation\"},{\"attributes\":{\"end\":172.7,\"reset_end\":172.7,\"reset_start\":0.0,\"tags\":[[[\"CISCO_count\",\"Count\",null]]]},\"id\":\"1155\",\"type\":\"Range1d\"},{\"attributes\":{\"margin\":[5,5,5,5],\"name\":\"HSpacer01708\",\"sizing_mode\":\"stretch_width\"},\"id\":\"1612\",\"type\":\"Spacer\"},{\"attributes\":{\"callback\":null,\"renderers\":[{\"id\":\"1093\"}],\"tags\":[\"hv_created\"],\"tooltips\":[[\"SPY\",\"@{SPY}\"],[\"Count\",\"@{SPY_count}\"]]},\"id\":\"1056\",\"type\":\"HoverTool\"},{\"attributes\":{},\"id\":\"1151\",\"type\":\"AllLabels\"},{\"attributes\":{},\"id\":\"1051\",\"type\":\"AllLabels\"},{\"attributes\":{\"bottom\":{\"value\":0},\"fill_alpha\":{\"value\":1.0},\"fill_color\":{\"value\":\"#30a2da\"},\"hatch_alpha\":{\"value\":1.0},\"hatch_color\":{\"value\":\"black\"},\"hatch_scale\":{\"value\":12.0},\"hatch_weight\":{\"value\":1.0},\"left\":{\"field\":\"left\"},\"line_alpha\":{\"value\":1.0},\"line_cap\":{\"value\":\"butt\"},\"line_color\":{\"value\":\"black\"},\"line_dash\":{\"value\":[]},\"line_dash_offset\":{\"value\":0},\"line_join\":{\"value\":\"bevel\"},\"line_width\":{\"value\":1},\"right\":{\"field\":\"right\"},\"top\":{\"field\":\"top\"}},\"id\":\"1045\",\"type\":\"Quad\"},{\"attributes\":{\"end\":113.3,\"reset_end\":113.3,\"reset_start\":0.0,\"tags\":[[[\"SPY_count\",\"Count\",null]]]},\"id\":\"1055\",\"type\":\"Range1d\"},{\"attributes\":{\"below\":[{\"id\":\"1066\"}],\"center\":[{\"id\":\"1069\"},{\"id\":\"1073\"}],\"height\":300,\"left\":[{\"id\":\"1070\"}],\"margin\":null,\"min_border_bottom\":10,\"min_border_left\":10,\"min_border_right\":10,\"min_border_top\":10,\"renderers\":[{\"id\":\"1093\"}],\"sizing_mode\":\"fixed\",\"title\":{\"id\":\"1058\"},\"toolbar\":{\"id\":\"1080\"},\"toolbar_location\":null,\"width\":400,\"x_range\":{\"id\":\"1054\"},\"x_scale\":{\"id\":\"1062\"},\"y_range\":{\"id\":\"1055\"},\"y_scale\":{\"id\":\"1064\"}},\"id\":\"1057\",\"subtype\":\"Figure\",\"type\":\"Plot\"},{\"attributes\":{\"bottom\":{\"value\":0},\"fill_color\":{\"value\":\"#30a2da\"},\"left\":{\"field\":\"left\"},\"right\":{\"field\":\"right\"},\"top\":{\"field\":\"top\"}},\"id\":\"1090\",\"type\":\"Quad\"},{\"attributes\":{\"bottom\":{\"value\":0},\"fill_alpha\":{\"value\":0.1},\"fill_color\":{\"value\":\"#30a2da\"},\"left\":{\"field\":\"left\"},\"line_alpha\":{\"value\":0.1},\"right\":{\"field\":\"right\"},\"top\":{\"field\":\"top\"}},\"id\":\"1091\",\"type\":\"Quad\"},{\"attributes\":{\"data_source\":{\"id\":\"1087\"},\"glyph\":{\"id\":\"1090\"},\"hover_glyph\":null,\"muted_glyph\":{\"id\":\"1092\"},\"nonselection_glyph\":{\"id\":\"1091\"},\"selection_glyph\":{\"id\":\"1095\"},\"view\":{\"id\":\"1094\"}},\"id\":\"1093\",\"type\":\"GlyphRenderer\"},{\"attributes\":{\"text\":\"Default: SPY\",\"text_color\":\"black\",\"text_font_size\":\"12pt\"},\"id\":\"1058\",\"type\":\"Title\"}],\"root_ids\":[\"1002\"]},\"title\":\"Bokeh Application\",\"version\":\"2.3.2\"}};\n",
       "    var render_items = [{\"docid\":\"e547b19d-7155-4fe0-8466-3cbb9e4d323d\",\"root_ids\":[\"1002\"],\"roots\":{\"1002\":\"09310d98-fccd-4c1b-9f83-7199c3ea094b\"}}];\n",
       "    root.Bokeh.embed.embed_items_notebook(docs_json, render_items);\n",
       "  }\n",
       "  if (root.Bokeh !== undefined && root.Bokeh.Panel !== undefined) {\n",
       "    embed_document(root);\n",
       "  } else {\n",
       "    var attempts = 0;\n",
       "    var timer = setInterval(function(root) {\n",
       "      if (root.Bokeh !== undefined && root.Bokeh.Panel !== undefined) {\n",
       "        clearInterval(timer);\n",
       "        embed_document(root);\n",
       "      } else if (document.readyState == \"complete\") {\n",
       "        attempts++;\n",
       "        if (attempts > 200) {\n",
       "          clearInterval(timer);\n",
       "          console.log(\"Bokeh: ERROR: Unable to run BokehJS code because BokehJS library is missing\");\n",
       "        }\n",
       "      }\n",
       "    }, 25, root)\n",
       "  }\n",
       "})(window);</script>"
      ],
      "text/plain": [
       ":NdLayout   [Default]\n",
       "   :Histogram   [CISCO]   (CISCO_count)"
      ]
     },
     "execution_count": 7,
     "metadata": {
      "application/vnd.holoviews_exec.v0+json": {
       "id": "1002"
      }
     },
     "output_type": "execute_result"
    }
   ],
   "source": [
    "log_daily_returns.hvplot.hist(bins=100, subplots=True, width=400, grid=True).cols(2)"
   ]
  },
  {
   "cell_type": "code",
   "execution_count": 27,
   "metadata": {},
   "outputs": [
    {
     "data": {
      "text/html": [
       "<div>\n",
       "<style scoped>\n",
       "    .dataframe tbody tr th:only-of-type {\n",
       "        vertical-align: middle;\n",
       "    }\n",
       "\n",
       "    .dataframe tbody tr th {\n",
       "        vertical-align: top;\n",
       "    }\n",
       "\n",
       "    .dataframe thead th {\n",
       "        text-align: right;\n",
       "    }\n",
       "</style>\n",
       "<table border=\"1\" class=\"dataframe\">\n",
       "  <thead>\n",
       "    <tr style=\"text-align: right;\">\n",
       "      <th></th>\n",
       "      <th>count</th>\n",
       "      <th>mean</th>\n",
       "      <th>std</th>\n",
       "      <th>min</th>\n",
       "      <th>25%</th>\n",
       "      <th>50%</th>\n",
       "      <th>75%</th>\n",
       "      <th>max</th>\n",
       "    </tr>\n",
       "  </thead>\n",
       "  <tbody>\n",
       "    <tr>\n",
       "      <th>AGG</th>\n",
       "      <td>1257.0</td>\n",
       "      <td>0.000011</td>\n",
       "      <td>0.011819</td>\n",
       "      <td>-0.086419</td>\n",
       "      <td>-0.005873</td>\n",
       "      <td>0.000049</td>\n",
       "      <td>0.006477</td>\n",
       "      <td>0.049130</td>\n",
       "    </tr>\n",
       "    <tr>\n",
       "      <th>SPY</th>\n",
       "      <td>1257.0</td>\n",
       "      <td>0.001139</td>\n",
       "      <td>0.019362</td>\n",
       "      <td>-0.116503</td>\n",
       "      <td>-0.008534</td>\n",
       "      <td>0.000563</td>\n",
       "      <td>0.011407</td>\n",
       "      <td>0.146225</td>\n",
       "    </tr>\n",
       "    <tr>\n",
       "      <th>AAPL</th>\n",
       "      <td>1257.0</td>\n",
       "      <td>0.000614</td>\n",
       "      <td>0.016466</td>\n",
       "      <td>-0.131875</td>\n",
       "      <td>-0.007358</td>\n",
       "      <td>0.000455</td>\n",
       "      <td>0.009724</td>\n",
       "      <td>0.085022</td>\n",
       "    </tr>\n",
       "    <tr>\n",
       "      <th>CISCO</th>\n",
       "      <td>1257.0</td>\n",
       "      <td>0.000497</td>\n",
       "      <td>0.014279</td>\n",
       "      <td>-0.116091</td>\n",
       "      <td>-0.006240</td>\n",
       "      <td>0.000213</td>\n",
       "      <td>0.007634</td>\n",
       "      <td>0.118862</td>\n",
       "    </tr>\n",
       "  </tbody>\n",
       "</table>\n",
       "</div>"
      ],
      "text/plain": [
       "        count      mean       std       min       25%       50%       75%  \\\n",
       "AGG    1257.0  0.000011  0.011819 -0.086419 -0.005873  0.000049  0.006477   \n",
       "SPY    1257.0  0.001139  0.019362 -0.116503 -0.008534  0.000563  0.011407   \n",
       "AAPL   1257.0  0.000614  0.016466 -0.131875 -0.007358  0.000455  0.009724   \n",
       "CISCO  1257.0  0.000497  0.014279 -0.116091 -0.006240  0.000213  0.007634   \n",
       "\n",
       "            max  \n",
       "AGG    0.049130  \n",
       "SPY    0.146225  \n",
       "AAPL   0.085022  \n",
       "CISCO  0.118862  "
      ]
     },
     "execution_count": 27,
     "metadata": {},
     "output_type": "execute_result"
    }
   ],
   "source": [
    "log_daily_returns.describe().T"
   ]
  },
  {
   "cell_type": "code",
   "execution_count": 28,
   "metadata": {},
   "outputs": [
    {
     "data": {
      "text/plain": [
       "AGG      0.002788\n",
       "SPY      0.287153\n",
       "AAPL     0.154803\n",
       "CISCO    0.125291\n",
       "dtype: float64"
      ]
     },
     "execution_count": 28,
     "metadata": {},
     "output_type": "execute_result"
    }
   ],
   "source": [
    "# Annualized returns\n",
    "log_daily_returns.mean() * 252"
   ]
  },
  {
   "cell_type": "code",
   "execution_count": 29,
   "metadata": {},
   "outputs": [
    {
     "data": {
      "text/html": [
       "<div>\n",
       "<style scoped>\n",
       "    .dataframe tbody tr th:only-of-type {\n",
       "        vertical-align: middle;\n",
       "    }\n",
       "\n",
       "    .dataframe tbody tr th {\n",
       "        vertical-align: top;\n",
       "    }\n",
       "\n",
       "    .dataframe thead th {\n",
       "        text-align: right;\n",
       "    }\n",
       "</style>\n",
       "<table border=\"1\" class=\"dataframe\">\n",
       "  <thead>\n",
       "    <tr style=\"text-align: right;\">\n",
       "      <th></th>\n",
       "      <th>AGG</th>\n",
       "      <th>SPY</th>\n",
       "      <th>AAPL</th>\n",
       "      <th>CISCO</th>\n",
       "    </tr>\n",
       "  </thead>\n",
       "  <tbody>\n",
       "    <tr>\n",
       "      <th>AGG</th>\n",
       "      <td>0.000140</td>\n",
       "      <td>0.000059</td>\n",
       "      <td>0.000057</td>\n",
       "      <td>0.000072</td>\n",
       "    </tr>\n",
       "    <tr>\n",
       "      <th>SPY</th>\n",
       "      <td>0.000059</td>\n",
       "      <td>0.000375</td>\n",
       "      <td>0.000075</td>\n",
       "      <td>0.000079</td>\n",
       "    </tr>\n",
       "    <tr>\n",
       "      <th>AAPL</th>\n",
       "      <td>0.000057</td>\n",
       "      <td>0.000075</td>\n",
       "      <td>0.000271</td>\n",
       "      <td>0.000071</td>\n",
       "    </tr>\n",
       "    <tr>\n",
       "      <th>CISCO</th>\n",
       "      <td>0.000072</td>\n",
       "      <td>0.000079</td>\n",
       "      <td>0.000071</td>\n",
       "      <td>0.000204</td>\n",
       "    </tr>\n",
       "  </tbody>\n",
       "</table>\n",
       "</div>"
      ],
      "text/plain": [
       "            AGG       SPY      AAPL     CISCO\n",
       "AGG    0.000140  0.000059  0.000057  0.000072\n",
       "SPY    0.000059  0.000375  0.000075  0.000079\n",
       "AAPL   0.000057  0.000075  0.000271  0.000071\n",
       "CISCO  0.000072  0.000079  0.000071  0.000204"
      ]
     },
     "execution_count": 29,
     "metadata": {},
     "output_type": "execute_result"
    }
   ],
   "source": [
    "# Compute daily covariance matrix\n",
    "log_daily_returns.cov()"
   ]
  },
  {
   "cell_type": "code",
   "execution_count": 30,
   "metadata": {},
   "outputs": [
    {
     "data": {
      "text/html": [
       "<div>\n",
       "<style scoped>\n",
       "    .dataframe tbody tr th:only-of-type {\n",
       "        vertical-align: middle;\n",
       "    }\n",
       "\n",
       "    .dataframe tbody tr th {\n",
       "        vertical-align: top;\n",
       "    }\n",
       "\n",
       "    .dataframe thead th {\n",
       "        text-align: right;\n",
       "    }\n",
       "</style>\n",
       "<table border=\"1\" class=\"dataframe\">\n",
       "  <thead>\n",
       "    <tr style=\"text-align: right;\">\n",
       "      <th></th>\n",
       "      <th>AGG</th>\n",
       "      <th>SPY</th>\n",
       "      <th>AAPL</th>\n",
       "      <th>CISCO</th>\n",
       "    </tr>\n",
       "  </thead>\n",
       "  <tbody>\n",
       "    <tr>\n",
       "      <th>AGG</th>\n",
       "      <td>0.035203</td>\n",
       "      <td>0.014939</td>\n",
       "      <td>0.014464</td>\n",
       "      <td>0.018029</td>\n",
       "    </tr>\n",
       "    <tr>\n",
       "      <th>SPY</th>\n",
       "      <td>0.014939</td>\n",
       "      <td>0.094470</td>\n",
       "      <td>0.018986</td>\n",
       "      <td>0.019956</td>\n",
       "    </tr>\n",
       "    <tr>\n",
       "      <th>AAPL</th>\n",
       "      <td>0.014464</td>\n",
       "      <td>0.018986</td>\n",
       "      <td>0.068326</td>\n",
       "      <td>0.017854</td>\n",
       "    </tr>\n",
       "    <tr>\n",
       "      <th>CISCO</th>\n",
       "      <td>0.018029</td>\n",
       "      <td>0.019956</td>\n",
       "      <td>0.017854</td>\n",
       "      <td>0.051381</td>\n",
       "    </tr>\n",
       "  </tbody>\n",
       "</table>\n",
       "</div>"
      ],
      "text/plain": [
       "            AGG       SPY      AAPL     CISCO\n",
       "AGG    0.035203  0.014939  0.014464  0.018029\n",
       "SPY    0.014939  0.094470  0.018986  0.019956\n",
       "AAPL   0.014464  0.018986  0.068326  0.017854\n",
       "CISCO  0.018029  0.019956  0.017854  0.051381"
      ]
     },
     "execution_count": 30,
     "metadata": {},
     "output_type": "execute_result"
    }
   ],
   "source": [
    "# Annualized covariance matrix by multiplying by trading days in a year\n",
    "log_daily_returns.cov()*252 "
   ]
  },
  {
   "cell_type": "markdown",
   "metadata": {},
   "source": [
    "# Portfolio Optimization and Recommendation\n",
    "Level of risk:\n",
    "1. Aggressive \n",
    "2. Moderate\n",
    "3. Conservative\n"
   ]
  },
  {
   "cell_type": "code",
   "execution_count": 32,
   "metadata": {},
   "outputs": [],
   "source": [
    "# set level of risk according to risk profile\n",
    "level_of_risk=3"
   ]
  },
  {
   "cell_type": "code",
   "execution_count": 44,
   "metadata": {},
   "outputs": [
    {
     "data": {
      "text/html": [
       "<div>\n",
       "<style scoped>\n",
       "    .dataframe tbody tr th:only-of-type {\n",
       "        vertical-align: middle;\n",
       "    }\n",
       "\n",
       "    .dataframe tbody tr th {\n",
       "        vertical-align: top;\n",
       "    }\n",
       "\n",
       "    .dataframe thead th {\n",
       "        text-align: right;\n",
       "    }\n",
       "</style>\n",
       "<table border=\"1\" class=\"dataframe\">\n",
       "  <thead>\n",
       "    <tr style=\"text-align: right;\">\n",
       "      <th></th>\n",
       "      <th>Equity</th>\n",
       "      <th>Fixed_Income</th>\n",
       "      <th>Other</th>\n",
       "    </tr>\n",
       "    <tr>\n",
       "      <th>Symbol</th>\n",
       "      <th></th>\n",
       "      <th></th>\n",
       "      <th></th>\n",
       "    </tr>\n",
       "  </thead>\n",
       "  <tbody>\n",
       "    <tr>\n",
       "      <th>AGG</th>\n",
       "      <td>0</td>\n",
       "      <td>1</td>\n",
       "      <td>0</td>\n",
       "    </tr>\n",
       "    <tr>\n",
       "      <th>SPY</th>\n",
       "      <td>1</td>\n",
       "      <td>0</td>\n",
       "      <td>0</td>\n",
       "    </tr>\n",
       "    <tr>\n",
       "      <th>AAPL</th>\n",
       "      <td>1</td>\n",
       "      <td>0</td>\n",
       "      <td>0</td>\n",
       "    </tr>\n",
       "    <tr>\n",
       "      <th>CISCO</th>\n",
       "      <td>1</td>\n",
       "      <td>0</td>\n",
       "      <td>0</td>\n",
       "    </tr>\n",
       "  </tbody>\n",
       "</table>\n",
       "</div>"
      ],
      "text/plain": [
       "        Equity  Fixed_Income  Other\n",
       "Symbol                             \n",
       "AGG          0             1      0\n",
       "SPY          1             0      0\n",
       "AAPL         1             0      0\n",
       "CISCO        1             0      0"
      ]
     },
     "execution_count": 44,
     "metadata": {},
     "output_type": "execute_result"
    }
   ],
   "source": [
    "#Number of instruments and asset classes\n",
    "n=len(portfolio_prices.columns)\n",
    "asset_class_securities=pd.read_csv('asset_classes_input_portfolio_optimization.csv')\n",
    "asset_class_securities=asset_class_securities.set_index('Symbol')\n",
    "asset_class_securities\n"
   ]
  },
  {
   "cell_type": "markdown",
   "metadata": {},
   "source": [
    "### Functionalize Return and SR operations"
   ]
  },
  {
   "cell_type": "code",
   "execution_count": 33,
   "metadata": {},
   "outputs": [],
   "source": [
    "def get_annual_expected_return_volatility_and_sharpe_ratio(portfolio_weights):\n",
    "    \"\"\"\n",
    "    Takes in portfolio_weights, returns array or annualized expected return, volatility, sharpe ratio\n",
    "    \"\"\"\n",
    "    portfolio_weights = np.array(portfolio_weights)\n",
    "    \n",
    "    #Annual expected return\n",
    "    expected_annual_return = np.sum(log_daily_returns.mean() * portfolio_weights) * 252\n",
    "    \n",
    "    # Annual Portfolio Variance = w.T * Covariance * w    (where \"*\" represents here the matrix multiplication) OBS: Var_annual = Var_daily * 252\n",
    "    # np.dot function does a matrix multiplication. Another alternative is np.matmul\n",
    "    portfolio_variance = np.dot(    portfolio_weights.T,     np.dot(   log_daily_returns.cov() * 252, portfolio_weights   ))\n",
    "    portfolio_volatility = np.sqrt(portfolio_variance)\n",
    "\n",
    "    #Sharpe Ratio (annual) (Assumed risk_free_rate=0)\n",
    "    risk_free_rate_annualized=0\n",
    "    sharpe_ratio = (expected_annual_return - risk_free_rate_annualized)/portfolio_volatility\n",
    "    \n",
    "    return np.array([expected_annual_return,portfolio_volatility,sharpe_ratio]) "
   ]
  },
  {
   "cell_type": "markdown",
   "metadata": {},
   "source": [
    "To fully understand all the parameters, check out:\n",
    "https://docs.scipy.org/doc/scipy/reference/generated/scipy.optimize.minimize.html"
   ]
  },
  {
   "cell_type": "code",
   "execution_count": 14,
   "metadata": {},
   "outputs": [],
   "source": [
    "#help(minimize)"
   ]
  },
  {
   "cell_type": "markdown",
   "metadata": {},
   "source": [
    "Optimization works as a minimization function, since we actually want to maximize the Sharpe Ratio, we will need to turn it negative so we can minimize the negative sharpe (same as maximizing the postive sharpe)"
   ]
  },
  {
   "cell_type": "code",
   "execution_count": 34,
   "metadata": {},
   "outputs": [],
   "source": [
    "# Function to be optimized \n",
    "def negative_sharpe_ratio(portfolio_weights):\n",
    "    return  get_annual_expected_return_volatility_and_sharpe_ratio(portfolio_weights)[2] * -1"
   ]
  },
  {
   "cell_type": "code",
   "execution_count": 35,
   "metadata": {},
   "outputs": [],
   "source": [
    "# Required arguments for optimization constaints\n",
    "if level_of_risk==1:\n",
    "    [equity_lower_limit, equity_upper_limit]  =[0.75, 0.9]\n",
    "\n",
    "elif level_of_risk==2:\n",
    "    [equity_lower_limit, equity_upper_limit]  =[0.40, 0.6]\n",
    "\n",
    "elif level_of_risk==3:\n",
    "    [equity_lower_limit, equity_upper_limit]  =[0 , 0.2]\n",
    "\n",
    "else: [equity_lower_limit, equity_upper_limit]=[0 , 1.0]\n",
    "\n",
    "\n"
   ]
  },
  {
   "cell_type": "code",
   "execution_count": 36,
   "metadata": {},
   "outputs": [],
   "source": [
    "# Contraints: weight sum must be equal to 1 \n",
    "def check_sum_of_portfolio_weights_is_one(portfolio_weights):\n",
    "    '''\n",
    "    Returns 0 if sum of portfolio_weights is 1.0\n",
    "    '''\n",
    "    return np.sum(portfolio_weights) - 1"
   ]
  },
  {
   "cell_type": "code",
   "execution_count": 37,
   "metadata": {},
   "outputs": [],
   "source": [
    "# Constraint: equity allocation is less than maximum limit (inequality constraint, upper limit - equity allocation >0)\n",
    "def check_sum_of_portfolio_equity_weights_is_less_than_upper_bound(portfolio_weights, asset_class_securities, equity_upper_limit):\n",
    "    \"\"\"\n",
    "    Makes sure allocation in equity is less than the maximum allowed\n",
    "    \"\"\"\n",
    "    portfolio_equity_allocation=sum(portfolio_weights * asset_class_securities['Equity'])\n",
    "    return  equity_upper_limit - portfolio_equity_allocation"
   ]
  },
  {
   "cell_type": "code",
   "execution_count": 38,
   "metadata": {},
   "outputs": [],
   "source": [
    "# Constraint: equity allocation is more than minimum limit (inequality constraint, equity allocation - lower_limit >0)\n",
    "def check_sum_of_portfolio_equity_weights_is_more_than_lower_bound(portfolio_weights,asset_class_securities , equity_lower_limit):\n",
    "    \"\"\"\n",
    "    Makes sure allocation in equity is more than the minimum allowed\n",
    "    \"\"\"\n",
    "    portfolio_equity_allocation=sum(portfolio_weights * asset_class_securities['Equity'])\n",
    "    return portfolio_equity_allocation - equity_lower_limit"
   ]
  },
  {
   "cell_type": "code",
   "execution_count": 45,
   "metadata": {},
   "outputs": [],
   "source": [
    "# By convention of minimize function it should be a function that returns zero for constraints. \n",
    "# Constraint type: 'eq' for equality, 'ineq' for inequality. \n",
    "# 'fun': The function defining the constraint: sum(portfolio_weights)=1  ==> sum(portfolio_weights) - 1 = 0\n",
    "#                                                                       upper limit - equity allocation >0\n",
    "#                                                                       equity allocation - lower_limit >0\n",
    "\n",
    "\n",
    "cons = [{'type':'eq','fun'  :check_sum_of_portfolio_weights_is_one},\n",
    "        {'type':'ineq','fun':check_sum_of_portfolio_equity_weights_is_less_than_upper_bound,'args':(asset_class_securities, equity_upper_limit)},\n",
    "        {'type':'ineq','fun':check_sum_of_portfolio_equity_weights_is_more_than_lower_bound,'args':(asset_class_securities, equity_lower_limit)}]\n",
    "\n"
   ]
  },
  {
   "cell_type": "code",
   "execution_count": 46,
   "metadata": {},
   "outputs": [
    {
     "data": {
      "text/plain": [
       "Bounds([0, 0, 0, 0], [1, 1, 1, 1])"
      ]
     },
     "execution_count": 46,
     "metadata": {},
     "output_type": "execute_result"
    }
   ],
   "source": [
    "# Setting bounds for the weights of each security\n",
    "lb=[0]*n\n",
    "ub=[1]*n\n",
    "        \n",
    "bounds=Bounds(lb, ub)\n",
    "bounds"
   ]
  },
  {
   "cell_type": "code",
   "execution_count": 47,
   "metadata": {},
   "outputs": [
    {
     "data": {
      "text/plain": [
       "[0.25, 0.25, 0.25, 0.25]"
      ]
     },
     "execution_count": 47,
     "metadata": {},
     "output_type": "execute_result"
    }
   ],
   "source": [
    "# Initial Guess (equal distribution)\n",
    "# n: number of stocks in the portfolio to optimize\n",
    "initial_guess = [1/n]*n\n",
    "initial_guess"
   ]
  },
  {
   "cell_type": "code",
   "execution_count": 48,
   "metadata": {},
   "outputs": [],
   "source": [
    "# Sequential Least SQuares Programming (SLSQP) - Similar to Least Square optimization, but it uses less resources. Approximate using paraboles.\n",
    "optimization_results = minimize(negative_sharpe_ratio, initial_guess, method='SLSQP', bounds=bounds, constraints=cons)"
   ]
  },
  {
   "cell_type": "code",
   "execution_count": 52,
   "metadata": {},
   "outputs": [
    {
     "data": {
      "text/plain": [
       "     fun: -0.3383618913313268\n",
       "     jac: array([ 0.32321707, -1.29286828, -0.71069684, -0.51016929])\n",
       " message: 'Optimization terminated successfully'\n",
       "    nfev: 10\n",
       "     nit: 2\n",
       "    njev: 2\n",
       "  status: 0\n",
       " success: True\n",
       "       x: array([8.00000000e-01, 2.00000000e-01, 1.66533454e-16, 0.00000000e+00])"
      ]
     },
     "execution_count": 52,
     "metadata": {},
     "output_type": "execute_result"
    }
   ],
   "source": [
    "# Optimization results\n",
    "optimization_results"
   ]
  },
  {
   "cell_type": "code",
   "execution_count": 54,
   "metadata": {},
   "outputs": [
    {
     "name": "stdout",
     "output_type": "stream",
     "text": [
      "portfolio_position_names: 0      AGG\n",
      "1      SPY\n",
      "2     AAPL\n",
      "3    CISCO\n",
      "dtype: object\n"
     ]
    },
    {
     "data": {
      "text/html": [
       "<div>\n",
       "<style scoped>\n",
       "    .dataframe tbody tr th:only-of-type {\n",
       "        vertical-align: middle;\n",
       "    }\n",
       "\n",
       "    .dataframe tbody tr th {\n",
       "        vertical-align: top;\n",
       "    }\n",
       "\n",
       "    .dataframe thead th {\n",
       "        text-align: right;\n",
       "    }\n",
       "</style>\n",
       "<table border=\"1\" class=\"dataframe\">\n",
       "  <thead>\n",
       "    <tr style=\"text-align: right;\">\n",
       "      <th></th>\n",
       "      <th>1</th>\n",
       "    </tr>\n",
       "    <tr>\n",
       "      <th>0</th>\n",
       "      <th></th>\n",
       "    </tr>\n",
       "  </thead>\n",
       "  <tbody>\n",
       "    <tr>\n",
       "      <th>AGG</th>\n",
       "      <td>8.000000e-01</td>\n",
       "    </tr>\n",
       "    <tr>\n",
       "      <th>SPY</th>\n",
       "      <td>2.000000e-01</td>\n",
       "    </tr>\n",
       "    <tr>\n",
       "      <th>AAPL</th>\n",
       "      <td>1.665335e-16</td>\n",
       "    </tr>\n",
       "    <tr>\n",
       "      <th>CISCO</th>\n",
       "      <td>0.000000e+00</td>\n",
       "    </tr>\n",
       "  </tbody>\n",
       "</table>\n",
       "</div>"
      ],
      "text/plain": [
       "                  1\n",
       "0                  \n",
       "AGG    8.000000e-01\n",
       "SPY    2.000000e-01\n",
       "AAPL   1.665335e-16\n",
       "CISCO  0.000000e+00"
      ]
     },
     "execution_count": 54,
     "metadata": {},
     "output_type": "execute_result"
    }
   ],
   "source": [
    "# Optimal weights\n",
    "optimal_portfolio_weights = optimization_results.x\n",
    "\n",
    "portfolio_position_names=pd.Series(portfolio_prices.columns)\n",
    "print(f\"portfolio_position_names: {portfolio_position_names}\")\n",
    "\n",
    "optimal_portfolio_weights=pd.Series(optimal_portfolio_weights)\n",
    "\n",
    "optimal_portfolio_weights=pd.concat([portfolio_position_names,optimal_portfolio_weights], axis=1)\n",
    "optimal_portfolio_weights=optimal_portfolio_weights.set_index(0)\n",
    "optimal_portfolio_weights"
   ]
  },
  {
   "cell_type": "code",
   "execution_count": 49,
   "metadata": {},
   "outputs": [
    {
     "name": "stdout",
     "output_type": "stream",
     "text": [
      "Optimal Annual Expected Return: 0.06\n",
      "Optimal Annual Volatility:      0.18\n",
      "Maximum Annual Sharpe ratio:    0.34\n"
     ]
    }
   ],
   "source": [
    "# Return, volatility, and Sharpe ratio on optimal value (Max Sharpe ratio point)\n",
    "[optimal_expected_return, optimal_volatility, maximum_Sharpe_ratio]= get_annual_expected_return_volatility_and_sharpe_ratio(optimization_results.x)\n",
    "\n",
    "print( f\"Optimal Annual Expected Return: {optimal_expected_return:.2f}\"  )\n",
    "print( f\"Optimal Annual Volatility:      {optimal_volatility:.2f}\") \n",
    "print( f\"Maximum Annual Sharpe ratio:    {maximum_Sharpe_ratio:.2f}\")\n"
   ]
  },
  {
   "cell_type": "code",
   "execution_count": 50,
   "metadata": {},
   "outputs": [
    {
     "name": "stdout",
     "output_type": "stream",
     "text": [
      "Original Annual Expected Return:  0.19\n",
      "Original Annual Volatility:       0.19\n",
      "Original Annual Sharpe ratio:     0.98\n"
     ]
    },
    {
     "data": {
      "text/plain": [
       "0    0.00\n",
       "1    0.32\n",
       "2    0.27\n",
       "3    0.41\n",
       "Name: Original allocation, dtype: float64"
      ]
     },
     "execution_count": 50,
     "metadata": {},
     "output_type": "execute_result"
    }
   ],
   "source": [
    "# Return of results\n",
    "# ORIGINAL PORTFOLIO\n",
    "original_client_portfolio_weights = pd.read_csv('./original_client_portfolio_weights.csv')\n",
    "original_client_portfolio_weights=original_client_portfolio_weights.iloc[:,1]\n",
    "\n",
    "[original_expected_return, original_volatility, original_Sharpe_ratio]=get_annual_expected_return_volatility_and_sharpe_ratio(original_client_portfolio_weights)\n",
    "\n",
    "print( f\"Original Annual Expected Return:  {original_expected_return:.2f}\"  )\n",
    "print( f\"Original Annual Volatility:       {original_volatility:.2f}\") \n",
    "print( f\"Original Annual Sharpe ratio:     {original_Sharpe_ratio:.2f}\")\n",
    "original_client_portfolio_weights"
   ]
  },
  {
   "cell_type": "code",
   "execution_count": null,
   "metadata": {},
   "outputs": [],
   "source": []
  }
 ],
 "metadata": {
  "kernelspec": {
   "display_name": "Python (dev)",
   "language": "python",
   "name": "dev"
  },
  "language_info": {
   "codemirror_mode": {
    "name": "ipython",
    "version": 3
   },
   "file_extension": ".py",
   "mimetype": "text/x-python",
   "name": "python",
   "nbconvert_exporter": "python",
   "pygments_lexer": "ipython3",
   "version": "3.7.10"
  }
 },
 "nbformat": 4,
 "nbformat_minor": 4
}
