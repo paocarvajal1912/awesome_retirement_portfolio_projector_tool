{
 "cells": [
  {
   "cell_type": "markdown",
   "id": "ed2ad03b",
   "metadata": {},
   "source": [
    "#  OPTIMIZATION\n",
    "Paola -"
   ]
  },
  {
   "cell_type": "code",
   "execution_count": null,
   "id": "4923e5ec",
   "metadata": {},
   "outputs": [],
   "source": []
  }
 ],
 "metadata": {
  "kernelspec": {
   "display_name": "Python (dev)",
   "language": "python",
   "name": "dev"
  },
  "language_info": {
   "codemirror_mode": {
    "name": "ipython",
    "version": 3
   },
   "file_extension": ".py",
   "mimetype": "text/x-python",
   "name": "python",
   "nbconvert_exporter": "python",
   "pygments_lexer": "ipython3",
   "version": "3.7.10"
  }
 },
 "nbformat": 4,
 "nbformat_minor": 5
}
